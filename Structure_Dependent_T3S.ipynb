{
  "nbformat": 4,
  "nbformat_minor": 0,
  "metadata": {
    "colab": {
      "provenance": [],
      "collapsed_sections": [],
      "toc_visible": true
    },
    "kernelspec": {
      "name": "python3",
      "display_name": "Python 3"
    },
    "language_info": {
      "name": "python"
    }
  },
  "cells": [
    {
      "cell_type": "markdown",
      "source": [
        "# Summary\n",
        "\n",
        "* Implemented a dependency-parsing based algorithm to simulate the Mandarin Tone 3 Sandhi (T3S) process, which yields different patterns of realization of T3S depending on the syntactic structure of the expression. \n",
        "\n",
        "* The current implementation produces natural output comparable to Google Text-to-Speech (gTTS)."
      ],
      "metadata": {
        "id": "4U47mTCpvfFK"
      }
    },
    {
      "cell_type": "markdown",
      "source": [
        "# Background\n",
        "\n",
        "* Mandarin is a tonal language with four distinctive tones: T1 (high), T2 (low-high), T3 (low), and T4 (high-low).\n",
        "\n",
        "* T3S is a phonological process by which a T3 is changed into a T2 when it is immediately followed by another T3.\n",
        "\n",
        "* When the input expression consists of more than two successive T3s, the patterns of realization of T3S depend on the syntactic structure of the expression.\n",
        "\n",
        "* Over-application of T3S application -- applying T3S when it is not necessary -- is acceptable (at fast speech), but makes the output less natural."
      ],
      "metadata": {
        "id": "zSVDquc_iNcr"
      }
    },
    {
      "cell_type": "code",
      "execution_count": null,
      "metadata": {
        "id": "2hTQNaUNk0ju"
      },
      "outputs": [],
      "source": [
        "!pip install -U spacy\n",
        "!python -m spacy download zh_core_web_lg # https://spacy.io/models/zh\n",
        "\n",
        "import zh_core_web_lg\n",
        "nlp = zh_core_web_lg.load()"
      ]
    },
    {
      "cell_type": "code",
      "source": [
        "from spacy import displacy"
      ],
      "metadata": {
        "id": "tHcEk0-Jlkuv"
      },
      "execution_count": 23,
      "outputs": []
    },
    {
      "cell_type": "code",
      "source": [
        "sent = nlp('五百碗酒') # 'five-hundred bowls of wine' \n",
        "                    # Underlying tones: 3333; Expected surface tones: 2223 (other patterns not acceptable)\n",
        "for token in sent:\n",
        "    print(token.text, token.pos_, token.dep_, list(token.ancestors))\n",
        "\n",
        "displacy.render(sent, style='dep', jupyter=True)"
      ],
      "metadata": {
        "colab": {
          "base_uri": "https://localhost:8080/",
          "height": 384
        },
        "id": "QX-jV3Qen7ZU",
        "outputId": "2a914937-4a75-441f-f7d7-3a51e19f188b"
      },
      "execution_count": 81,
      "outputs": [
        {
          "output_type": "stream",
          "name": "stdout",
          "text": [
            "五百 NUM nummod [酒]\n",
            "碗 NUM mark:clf [五百, 酒]\n",
            "酒 NOUN ROOT []\n"
          ]
        },
        {
          "output_type": "display_data",
          "data": {
            "text/plain": [
              "<IPython.core.display.HTML object>"
            ],
            "text/html": [
              "<span class=\"tex2jax_ignore\"><svg xmlns=\"http://www.w3.org/2000/svg\" xmlns:xlink=\"http://www.w3.org/1999/xlink\" xml:lang=\"zh\" id=\"f9de6575498c45e093ff3d54d1420678-0\" class=\"displacy\" width=\"575\" height=\"312.0\" direction=\"ltr\" style=\"max-width: none; height: 312.0px; color: #000000; background: #ffffff; font-family: Arial; direction: ltr\">\n",
              "<text class=\"displacy-token\" fill=\"currentColor\" text-anchor=\"middle\" y=\"222.0\">\n",
              "    <tspan class=\"displacy-word\" fill=\"currentColor\" x=\"50\">五百</tspan>\n",
              "    <tspan class=\"displacy-tag\" dy=\"2em\" fill=\"currentColor\" x=\"50\">NUM</tspan>\n",
              "</text>\n",
              "\n",
              "<text class=\"displacy-token\" fill=\"currentColor\" text-anchor=\"middle\" y=\"222.0\">\n",
              "    <tspan class=\"displacy-word\" fill=\"currentColor\" x=\"225\">碗</tspan>\n",
              "    <tspan class=\"displacy-tag\" dy=\"2em\" fill=\"currentColor\" x=\"225\">NUM</tspan>\n",
              "</text>\n",
              "\n",
              "<text class=\"displacy-token\" fill=\"currentColor\" text-anchor=\"middle\" y=\"222.0\">\n",
              "    <tspan class=\"displacy-word\" fill=\"currentColor\" x=\"400\">酒</tspan>\n",
              "    <tspan class=\"displacy-tag\" dy=\"2em\" fill=\"currentColor\" x=\"400\">NOUN</tspan>\n",
              "</text>\n",
              "\n",
              "<g class=\"displacy-arrow\">\n",
              "    <path class=\"displacy-arc\" id=\"arrow-f9de6575498c45e093ff3d54d1420678-0-0\" stroke-width=\"2px\" d=\"M70,177.0 C70,2.0 400.0,2.0 400.0,177.0\" fill=\"none\" stroke=\"currentColor\"/>\n",
              "    <text dy=\"1.25em\" style=\"font-size: 0.8em; letter-spacing: 1px\">\n",
              "        <textPath xlink:href=\"#arrow-f9de6575498c45e093ff3d54d1420678-0-0\" class=\"displacy-label\" startOffset=\"50%\" side=\"left\" fill=\"currentColor\" text-anchor=\"middle\">nummod</textPath>\n",
              "    </text>\n",
              "    <path class=\"displacy-arrowhead\" d=\"M70,179.0 L62,167.0 78,167.0\" fill=\"currentColor\"/>\n",
              "</g>\n",
              "\n",
              "<g class=\"displacy-arrow\">\n",
              "    <path class=\"displacy-arc\" id=\"arrow-f9de6575498c45e093ff3d54d1420678-0-1\" stroke-width=\"2px\" d=\"M70,177.0 C70,89.5 220.0,89.5 220.0,177.0\" fill=\"none\" stroke=\"currentColor\"/>\n",
              "    <text dy=\"1.25em\" style=\"font-size: 0.8em; letter-spacing: 1px\">\n",
              "        <textPath xlink:href=\"#arrow-f9de6575498c45e093ff3d54d1420678-0-1\" class=\"displacy-label\" startOffset=\"50%\" side=\"left\" fill=\"currentColor\" text-anchor=\"middle\">mark:clf</textPath>\n",
              "    </text>\n",
              "    <path class=\"displacy-arrowhead\" d=\"M220.0,179.0 L228.0,167.0 212.0,167.0\" fill=\"currentColor\"/>\n",
              "</g>\n",
              "</svg></span>"
            ]
          },
          "metadata": {}
        }
      ]
    },
    {
      "cell_type": "code",
      "source": [
        "sent = nlp('想买米酒') # 'want to buy rice wine'\n",
        "                    # Underlying tones: 3333; Expected surface tones: 2323 (most natural) among other acceptable patterns\n",
        "for token in sent:\n",
        "    print(token.text, token.pos_, token.dep_, list(token.ancestors))\n",
        "\n",
        "displacy.render(sent, style='dep', jupyter=True)"
      ],
      "metadata": {
        "colab": {
          "base_uri": "https://localhost:8080/",
          "height": 297
        },
        "id": "hQIpE9oRxVSy",
        "outputId": "f145f171-acb2-4432-93e7-e373308bab55"
      },
      "execution_count": 34,
      "outputs": [
        {
          "output_type": "stream",
          "name": "stdout",
          "text": [
            "想 VERB ROOT []\n",
            "买 VERB ccomp [想]\n",
            "米酒 NOUN dobj [买, 想]\n"
          ]
        },
        {
          "output_type": "display_data",
          "data": {
            "text/plain": [
              "<IPython.core.display.HTML object>"
            ],
            "text/html": [
              "<span class=\"tex2jax_ignore\"><svg xmlns=\"http://www.w3.org/2000/svg\" xmlns:xlink=\"http://www.w3.org/1999/xlink\" xml:lang=\"zh\" id=\"8d78ab4b41b046cb9389cdf3e19974b8-0\" class=\"displacy\" width=\"575\" height=\"224.5\" direction=\"ltr\" style=\"max-width: none; height: 224.5px; color: #000000; background: #ffffff; font-family: Arial; direction: ltr\">\n",
              "<text class=\"displacy-token\" fill=\"currentColor\" text-anchor=\"middle\" y=\"134.5\">\n",
              "    <tspan class=\"displacy-word\" fill=\"currentColor\" x=\"50\">想</tspan>\n",
              "    <tspan class=\"displacy-tag\" dy=\"2em\" fill=\"currentColor\" x=\"50\">VERB</tspan>\n",
              "</text>\n",
              "\n",
              "<text class=\"displacy-token\" fill=\"currentColor\" text-anchor=\"middle\" y=\"134.5\">\n",
              "    <tspan class=\"displacy-word\" fill=\"currentColor\" x=\"225\">买</tspan>\n",
              "    <tspan class=\"displacy-tag\" dy=\"2em\" fill=\"currentColor\" x=\"225\">VERB</tspan>\n",
              "</text>\n",
              "\n",
              "<text class=\"displacy-token\" fill=\"currentColor\" text-anchor=\"middle\" y=\"134.5\">\n",
              "    <tspan class=\"displacy-word\" fill=\"currentColor\" x=\"400\">米酒</tspan>\n",
              "    <tspan class=\"displacy-tag\" dy=\"2em\" fill=\"currentColor\" x=\"400\">NOUN</tspan>\n",
              "</text>\n",
              "\n",
              "<g class=\"displacy-arrow\">\n",
              "    <path class=\"displacy-arc\" id=\"arrow-8d78ab4b41b046cb9389cdf3e19974b8-0-0\" stroke-width=\"2px\" d=\"M70,89.5 C70,2.0 225.0,2.0 225.0,89.5\" fill=\"none\" stroke=\"currentColor\"/>\n",
              "    <text dy=\"1.25em\" style=\"font-size: 0.8em; letter-spacing: 1px\">\n",
              "        <textPath xlink:href=\"#arrow-8d78ab4b41b046cb9389cdf3e19974b8-0-0\" class=\"displacy-label\" startOffset=\"50%\" side=\"left\" fill=\"currentColor\" text-anchor=\"middle\">ccomp</textPath>\n",
              "    </text>\n",
              "    <path class=\"displacy-arrowhead\" d=\"M225.0,91.5 L233.0,79.5 217.0,79.5\" fill=\"currentColor\"/>\n",
              "</g>\n",
              "\n",
              "<g class=\"displacy-arrow\">\n",
              "    <path class=\"displacy-arc\" id=\"arrow-8d78ab4b41b046cb9389cdf3e19974b8-0-1\" stroke-width=\"2px\" d=\"M245,89.5 C245,2.0 400.0,2.0 400.0,89.5\" fill=\"none\" stroke=\"currentColor\"/>\n",
              "    <text dy=\"1.25em\" style=\"font-size: 0.8em; letter-spacing: 1px\">\n",
              "        <textPath xlink:href=\"#arrow-8d78ab4b41b046cb9389cdf3e19974b8-0-1\" class=\"displacy-label\" startOffset=\"50%\" side=\"left\" fill=\"currentColor\" text-anchor=\"middle\">dobj</textPath>\n",
              "    </text>\n",
              "    <path class=\"displacy-arrowhead\" d=\"M400.0,91.5 L408.0,79.5 392.0,79.5\" fill=\"currentColor\"/>\n",
              "</g>\n",
              "</svg></span>"
            ]
          },
          "metadata": {}
        }
      ]
    },
    {
      "cell_type": "code",
      "source": [
        "sent = nlp('我很想买米酒') # 'I really want to buy rice wine'\n",
        "                        # Underlying tones: 333333; Expected surface tones: 322323 (most natural) among other acceptable patterns\n",
        "for token in sent:\n",
        "    print(token.text, token.pos_, token.dep_, list(token.ancestors))\n",
        "\n",
        "displacy.render(sent, style='dep', jupyter=True)"
      ],
      "metadata": {
        "colab": {
          "base_uri": "https://localhost:8080/",
          "height": 418
        },
        "id": "TyLimp2WDAoC",
        "outputId": "a112b258-0238-41ae-ed39-0bfe5b87b295"
      },
      "execution_count": 87,
      "outputs": [
        {
          "output_type": "stream",
          "name": "stdout",
          "text": [
            "我 PRON nsubj [想]\n",
            "很 ADV advmod [想]\n",
            "想 VERB ROOT []\n",
            "买 VERB ccomp [想]\n",
            "米酒 NOUN dobj [买, 想]\n"
          ]
        },
        {
          "output_type": "display_data",
          "data": {
            "text/plain": [
              "<IPython.core.display.HTML object>"
            ],
            "text/html": [
              "<span class=\"tex2jax_ignore\"><svg xmlns=\"http://www.w3.org/2000/svg\" xmlns:xlink=\"http://www.w3.org/1999/xlink\" xml:lang=\"zh\" id=\"a7ae35590a5f4b3b8f2a55100c183e73-0\" class=\"displacy\" width=\"925\" height=\"312.0\" direction=\"ltr\" style=\"max-width: none; height: 312.0px; color: #000000; background: #ffffff; font-family: Arial; direction: ltr\">\n",
              "<text class=\"displacy-token\" fill=\"currentColor\" text-anchor=\"middle\" y=\"222.0\">\n",
              "    <tspan class=\"displacy-word\" fill=\"currentColor\" x=\"50\">我</tspan>\n",
              "    <tspan class=\"displacy-tag\" dy=\"2em\" fill=\"currentColor\" x=\"50\">PRON</tspan>\n",
              "</text>\n",
              "\n",
              "<text class=\"displacy-token\" fill=\"currentColor\" text-anchor=\"middle\" y=\"222.0\">\n",
              "    <tspan class=\"displacy-word\" fill=\"currentColor\" x=\"225\">很</tspan>\n",
              "    <tspan class=\"displacy-tag\" dy=\"2em\" fill=\"currentColor\" x=\"225\">ADV</tspan>\n",
              "</text>\n",
              "\n",
              "<text class=\"displacy-token\" fill=\"currentColor\" text-anchor=\"middle\" y=\"222.0\">\n",
              "    <tspan class=\"displacy-word\" fill=\"currentColor\" x=\"400\">想</tspan>\n",
              "    <tspan class=\"displacy-tag\" dy=\"2em\" fill=\"currentColor\" x=\"400\">VERB</tspan>\n",
              "</text>\n",
              "\n",
              "<text class=\"displacy-token\" fill=\"currentColor\" text-anchor=\"middle\" y=\"222.0\">\n",
              "    <tspan class=\"displacy-word\" fill=\"currentColor\" x=\"575\">买</tspan>\n",
              "    <tspan class=\"displacy-tag\" dy=\"2em\" fill=\"currentColor\" x=\"575\">VERB</tspan>\n",
              "</text>\n",
              "\n",
              "<text class=\"displacy-token\" fill=\"currentColor\" text-anchor=\"middle\" y=\"222.0\">\n",
              "    <tspan class=\"displacy-word\" fill=\"currentColor\" x=\"750\">米酒</tspan>\n",
              "    <tspan class=\"displacy-tag\" dy=\"2em\" fill=\"currentColor\" x=\"750\">NOUN</tspan>\n",
              "</text>\n",
              "\n",
              "<g class=\"displacy-arrow\">\n",
              "    <path class=\"displacy-arc\" id=\"arrow-a7ae35590a5f4b3b8f2a55100c183e73-0-0\" stroke-width=\"2px\" d=\"M70,177.0 C70,2.0 400.0,2.0 400.0,177.0\" fill=\"none\" stroke=\"currentColor\"/>\n",
              "    <text dy=\"1.25em\" style=\"font-size: 0.8em; letter-spacing: 1px\">\n",
              "        <textPath xlink:href=\"#arrow-a7ae35590a5f4b3b8f2a55100c183e73-0-0\" class=\"displacy-label\" startOffset=\"50%\" side=\"left\" fill=\"currentColor\" text-anchor=\"middle\">nsubj</textPath>\n",
              "    </text>\n",
              "    <path class=\"displacy-arrowhead\" d=\"M70,179.0 L62,167.0 78,167.0\" fill=\"currentColor\"/>\n",
              "</g>\n",
              "\n",
              "<g class=\"displacy-arrow\">\n",
              "    <path class=\"displacy-arc\" id=\"arrow-a7ae35590a5f4b3b8f2a55100c183e73-0-1\" stroke-width=\"2px\" d=\"M245,177.0 C245,89.5 395.0,89.5 395.0,177.0\" fill=\"none\" stroke=\"currentColor\"/>\n",
              "    <text dy=\"1.25em\" style=\"font-size: 0.8em; letter-spacing: 1px\">\n",
              "        <textPath xlink:href=\"#arrow-a7ae35590a5f4b3b8f2a55100c183e73-0-1\" class=\"displacy-label\" startOffset=\"50%\" side=\"left\" fill=\"currentColor\" text-anchor=\"middle\">advmod</textPath>\n",
              "    </text>\n",
              "    <path class=\"displacy-arrowhead\" d=\"M245,179.0 L237,167.0 253,167.0\" fill=\"currentColor\"/>\n",
              "</g>\n",
              "\n",
              "<g class=\"displacy-arrow\">\n",
              "    <path class=\"displacy-arc\" id=\"arrow-a7ae35590a5f4b3b8f2a55100c183e73-0-2\" stroke-width=\"2px\" d=\"M420,177.0 C420,89.5 570.0,89.5 570.0,177.0\" fill=\"none\" stroke=\"currentColor\"/>\n",
              "    <text dy=\"1.25em\" style=\"font-size: 0.8em; letter-spacing: 1px\">\n",
              "        <textPath xlink:href=\"#arrow-a7ae35590a5f4b3b8f2a55100c183e73-0-2\" class=\"displacy-label\" startOffset=\"50%\" side=\"left\" fill=\"currentColor\" text-anchor=\"middle\">ccomp</textPath>\n",
              "    </text>\n",
              "    <path class=\"displacy-arrowhead\" d=\"M570.0,179.0 L578.0,167.0 562.0,167.0\" fill=\"currentColor\"/>\n",
              "</g>\n",
              "\n",
              "<g class=\"displacy-arrow\">\n",
              "    <path class=\"displacy-arc\" id=\"arrow-a7ae35590a5f4b3b8f2a55100c183e73-0-3\" stroke-width=\"2px\" d=\"M595,177.0 C595,89.5 745.0,89.5 745.0,177.0\" fill=\"none\" stroke=\"currentColor\"/>\n",
              "    <text dy=\"1.25em\" style=\"font-size: 0.8em; letter-spacing: 1px\">\n",
              "        <textPath xlink:href=\"#arrow-a7ae35590a5f4b3b8f2a55100c183e73-0-3\" class=\"displacy-label\" startOffset=\"50%\" side=\"left\" fill=\"currentColor\" text-anchor=\"middle\">dobj</textPath>\n",
              "    </text>\n",
              "    <path class=\"displacy-arrowhead\" d=\"M745.0,179.0 L753.0,167.0 737.0,167.0\" fill=\"currentColor\"/>\n",
              "</g>\n",
              "</svg></span>"
            ]
          },
          "metadata": {}
        }
      ]
    },
    {
      "cell_type": "code",
      "source": [
        "sent = nlp('我想买五百碗酒') # 'I want to buy five-hundred bowls of wine'\n",
        "                        # Underlying tones: 3333333; Expected surface tones: 3232223 (most natural) among other acceptable patterns\n",
        "for token in sent:\n",
        "    print(token.text, token.pos_, token.dep_, list(token.ancestors))\n",
        "\n",
        "displacy.render(sent, style='dep', jupyter=True)"
      ],
      "metadata": {
        "colab": {
          "base_uri": "https://localhost:8080/",
          "height": 523
        },
        "id": "RPsBb2g5lSSk",
        "outputId": "c802e067-bf85-49f2-9024-e561c624a285"
      },
      "execution_count": 89,
      "outputs": [
        {
          "output_type": "stream",
          "name": "stdout",
          "text": [
            "我 PRON nsubj [想]\n",
            "想 VERB ROOT []\n",
            "买 VERB ccomp [想]\n",
            "五百 NUM nummod [酒, 买, 想]\n",
            "碗 NUM mark:clf [五百, 酒, 买, 想]\n",
            "酒 NOUN dobj [买, 想]\n"
          ]
        },
        {
          "output_type": "display_data",
          "data": {
            "text/plain": [
              "<IPython.core.display.HTML object>"
            ],
            "text/html": [
              "<span class=\"tex2jax_ignore\"><svg xmlns=\"http://www.w3.org/2000/svg\" xmlns:xlink=\"http://www.w3.org/1999/xlink\" xml:lang=\"zh\" id=\"610dedca68eb4f0b900aaa88f977c2f5-0\" class=\"displacy\" width=\"1100\" height=\"399.5\" direction=\"ltr\" style=\"max-width: none; height: 399.5px; color: #000000; background: #ffffff; font-family: Arial; direction: ltr\">\n",
              "<text class=\"displacy-token\" fill=\"currentColor\" text-anchor=\"middle\" y=\"309.5\">\n",
              "    <tspan class=\"displacy-word\" fill=\"currentColor\" x=\"50\">我</tspan>\n",
              "    <tspan class=\"displacy-tag\" dy=\"2em\" fill=\"currentColor\" x=\"50\">PRON</tspan>\n",
              "</text>\n",
              "\n",
              "<text class=\"displacy-token\" fill=\"currentColor\" text-anchor=\"middle\" y=\"309.5\">\n",
              "    <tspan class=\"displacy-word\" fill=\"currentColor\" x=\"225\">想</tspan>\n",
              "    <tspan class=\"displacy-tag\" dy=\"2em\" fill=\"currentColor\" x=\"225\">VERB</tspan>\n",
              "</text>\n",
              "\n",
              "<text class=\"displacy-token\" fill=\"currentColor\" text-anchor=\"middle\" y=\"309.5\">\n",
              "    <tspan class=\"displacy-word\" fill=\"currentColor\" x=\"400\">买</tspan>\n",
              "    <tspan class=\"displacy-tag\" dy=\"2em\" fill=\"currentColor\" x=\"400\">VERB</tspan>\n",
              "</text>\n",
              "\n",
              "<text class=\"displacy-token\" fill=\"currentColor\" text-anchor=\"middle\" y=\"309.5\">\n",
              "    <tspan class=\"displacy-word\" fill=\"currentColor\" x=\"575\">五百</tspan>\n",
              "    <tspan class=\"displacy-tag\" dy=\"2em\" fill=\"currentColor\" x=\"575\">NUM</tspan>\n",
              "</text>\n",
              "\n",
              "<text class=\"displacy-token\" fill=\"currentColor\" text-anchor=\"middle\" y=\"309.5\">\n",
              "    <tspan class=\"displacy-word\" fill=\"currentColor\" x=\"750\">碗</tspan>\n",
              "    <tspan class=\"displacy-tag\" dy=\"2em\" fill=\"currentColor\" x=\"750\">NUM</tspan>\n",
              "</text>\n",
              "\n",
              "<text class=\"displacy-token\" fill=\"currentColor\" text-anchor=\"middle\" y=\"309.5\">\n",
              "    <tspan class=\"displacy-word\" fill=\"currentColor\" x=\"925\">酒</tspan>\n",
              "    <tspan class=\"displacy-tag\" dy=\"2em\" fill=\"currentColor\" x=\"925\">NOUN</tspan>\n",
              "</text>\n",
              "\n",
              "<g class=\"displacy-arrow\">\n",
              "    <path class=\"displacy-arc\" id=\"arrow-610dedca68eb4f0b900aaa88f977c2f5-0-0\" stroke-width=\"2px\" d=\"M70,264.5 C70,177.0 215.0,177.0 215.0,264.5\" fill=\"none\" stroke=\"currentColor\"/>\n",
              "    <text dy=\"1.25em\" style=\"font-size: 0.8em; letter-spacing: 1px\">\n",
              "        <textPath xlink:href=\"#arrow-610dedca68eb4f0b900aaa88f977c2f5-0-0\" class=\"displacy-label\" startOffset=\"50%\" side=\"left\" fill=\"currentColor\" text-anchor=\"middle\">nsubj</textPath>\n",
              "    </text>\n",
              "    <path class=\"displacy-arrowhead\" d=\"M70,266.5 L62,254.5 78,254.5\" fill=\"currentColor\"/>\n",
              "</g>\n",
              "\n",
              "<g class=\"displacy-arrow\">\n",
              "    <path class=\"displacy-arc\" id=\"arrow-610dedca68eb4f0b900aaa88f977c2f5-0-1\" stroke-width=\"2px\" d=\"M245,264.5 C245,177.0 390.0,177.0 390.0,264.5\" fill=\"none\" stroke=\"currentColor\"/>\n",
              "    <text dy=\"1.25em\" style=\"font-size: 0.8em; letter-spacing: 1px\">\n",
              "        <textPath xlink:href=\"#arrow-610dedca68eb4f0b900aaa88f977c2f5-0-1\" class=\"displacy-label\" startOffset=\"50%\" side=\"left\" fill=\"currentColor\" text-anchor=\"middle\">ccomp</textPath>\n",
              "    </text>\n",
              "    <path class=\"displacy-arrowhead\" d=\"M390.0,266.5 L398.0,254.5 382.0,254.5\" fill=\"currentColor\"/>\n",
              "</g>\n",
              "\n",
              "<g class=\"displacy-arrow\">\n",
              "    <path class=\"displacy-arc\" id=\"arrow-610dedca68eb4f0b900aaa88f977c2f5-0-2\" stroke-width=\"2px\" d=\"M595,264.5 C595,89.5 920.0,89.5 920.0,264.5\" fill=\"none\" stroke=\"currentColor\"/>\n",
              "    <text dy=\"1.25em\" style=\"font-size: 0.8em; letter-spacing: 1px\">\n",
              "        <textPath xlink:href=\"#arrow-610dedca68eb4f0b900aaa88f977c2f5-0-2\" class=\"displacy-label\" startOffset=\"50%\" side=\"left\" fill=\"currentColor\" text-anchor=\"middle\">nummod</textPath>\n",
              "    </text>\n",
              "    <path class=\"displacy-arrowhead\" d=\"M595,266.5 L587,254.5 603,254.5\" fill=\"currentColor\"/>\n",
              "</g>\n",
              "\n",
              "<g class=\"displacy-arrow\">\n",
              "    <path class=\"displacy-arc\" id=\"arrow-610dedca68eb4f0b900aaa88f977c2f5-0-3\" stroke-width=\"2px\" d=\"M595,264.5 C595,177.0 740.0,177.0 740.0,264.5\" fill=\"none\" stroke=\"currentColor\"/>\n",
              "    <text dy=\"1.25em\" style=\"font-size: 0.8em; letter-spacing: 1px\">\n",
              "        <textPath xlink:href=\"#arrow-610dedca68eb4f0b900aaa88f977c2f5-0-3\" class=\"displacy-label\" startOffset=\"50%\" side=\"left\" fill=\"currentColor\" text-anchor=\"middle\">mark:clf</textPath>\n",
              "    </text>\n",
              "    <path class=\"displacy-arrowhead\" d=\"M740.0,266.5 L748.0,254.5 732.0,254.5\" fill=\"currentColor\"/>\n",
              "</g>\n",
              "\n",
              "<g class=\"displacy-arrow\">\n",
              "    <path class=\"displacy-arc\" id=\"arrow-610dedca68eb4f0b900aaa88f977c2f5-0-4\" stroke-width=\"2px\" d=\"M420,264.5 C420,2.0 925.0,2.0 925.0,264.5\" fill=\"none\" stroke=\"currentColor\"/>\n",
              "    <text dy=\"1.25em\" style=\"font-size: 0.8em; letter-spacing: 1px\">\n",
              "        <textPath xlink:href=\"#arrow-610dedca68eb4f0b900aaa88f977c2f5-0-4\" class=\"displacy-label\" startOffset=\"50%\" side=\"left\" fill=\"currentColor\" text-anchor=\"middle\">dobj</textPath>\n",
              "    </text>\n",
              "    <path class=\"displacy-arrowhead\" d=\"M925.0,266.5 L933.0,254.5 917.0,254.5\" fill=\"currentColor\"/>\n",
              "</g>\n",
              "</svg></span>"
            ]
          },
          "metadata": {}
        }
      ]
    },
    {
      "cell_type": "code",
      "source": [
        "sent = nlp('老李很想买五百碗米酒') # 'Old Li really wants to buy  bowls of rice wine'\n",
        "                              # Underlying tones: 333333333; Expected surface tones: 232232323 (most natural) among other acceptable patterns\n",
        "for token in sent:\n",
        "    print(token.text, token.pos_, token.dep_, list(token.ancestors))\n",
        "\n",
        "displacy.render(sent, style='dep', jupyter=True)"
      ],
      "metadata": {
        "colab": {
          "base_uri": "https://localhost:8080/",
          "height": 560
        },
        "id": "SPPP2mDjrTzW",
        "outputId": "69732163-b398-4aa7-aa9c-7eda9e4a214b"
      },
      "execution_count": 90,
      "outputs": [
        {
          "output_type": "stream",
          "name": "stdout",
          "text": [
            "老李 PROPN nsubj [想]\n",
            "很 ADV advmod [想]\n",
            "想 VERB ROOT []\n",
            "买 VERB ccomp [想]\n",
            "五百 NUM nummod [米酒, 买, 想]\n",
            "碗 NUM mark:clf [五百, 米酒, 买, 想]\n",
            "米酒 NOUN dobj [买, 想]\n"
          ]
        },
        {
          "output_type": "display_data",
          "data": {
            "text/plain": [
              "<IPython.core.display.HTML object>"
            ],
            "text/html": [
              "<span class=\"tex2jax_ignore\"><svg xmlns=\"http://www.w3.org/2000/svg\" xmlns:xlink=\"http://www.w3.org/1999/xlink\" xml:lang=\"zh\" id=\"6507fa2016ad474f823cc970c9bcfd5f-0\" class=\"displacy\" width=\"1275\" height=\"399.5\" direction=\"ltr\" style=\"max-width: none; height: 399.5px; color: #000000; background: #ffffff; font-family: Arial; direction: ltr\">\n",
              "<text class=\"displacy-token\" fill=\"currentColor\" text-anchor=\"middle\" y=\"309.5\">\n",
              "    <tspan class=\"displacy-word\" fill=\"currentColor\" x=\"50\">老李</tspan>\n",
              "    <tspan class=\"displacy-tag\" dy=\"2em\" fill=\"currentColor\" x=\"50\">PROPN</tspan>\n",
              "</text>\n",
              "\n",
              "<text class=\"displacy-token\" fill=\"currentColor\" text-anchor=\"middle\" y=\"309.5\">\n",
              "    <tspan class=\"displacy-word\" fill=\"currentColor\" x=\"225\">很</tspan>\n",
              "    <tspan class=\"displacy-tag\" dy=\"2em\" fill=\"currentColor\" x=\"225\">ADV</tspan>\n",
              "</text>\n",
              "\n",
              "<text class=\"displacy-token\" fill=\"currentColor\" text-anchor=\"middle\" y=\"309.5\">\n",
              "    <tspan class=\"displacy-word\" fill=\"currentColor\" x=\"400\">想</tspan>\n",
              "    <tspan class=\"displacy-tag\" dy=\"2em\" fill=\"currentColor\" x=\"400\">VERB</tspan>\n",
              "</text>\n",
              "\n",
              "<text class=\"displacy-token\" fill=\"currentColor\" text-anchor=\"middle\" y=\"309.5\">\n",
              "    <tspan class=\"displacy-word\" fill=\"currentColor\" x=\"575\">买</tspan>\n",
              "    <tspan class=\"displacy-tag\" dy=\"2em\" fill=\"currentColor\" x=\"575\">VERB</tspan>\n",
              "</text>\n",
              "\n",
              "<text class=\"displacy-token\" fill=\"currentColor\" text-anchor=\"middle\" y=\"309.5\">\n",
              "    <tspan class=\"displacy-word\" fill=\"currentColor\" x=\"750\">五百</tspan>\n",
              "    <tspan class=\"displacy-tag\" dy=\"2em\" fill=\"currentColor\" x=\"750\">NUM</tspan>\n",
              "</text>\n",
              "\n",
              "<text class=\"displacy-token\" fill=\"currentColor\" text-anchor=\"middle\" y=\"309.5\">\n",
              "    <tspan class=\"displacy-word\" fill=\"currentColor\" x=\"925\">碗</tspan>\n",
              "    <tspan class=\"displacy-tag\" dy=\"2em\" fill=\"currentColor\" x=\"925\">NUM</tspan>\n",
              "</text>\n",
              "\n",
              "<text class=\"displacy-token\" fill=\"currentColor\" text-anchor=\"middle\" y=\"309.5\">\n",
              "    <tspan class=\"displacy-word\" fill=\"currentColor\" x=\"1100\">米酒</tspan>\n",
              "    <tspan class=\"displacy-tag\" dy=\"2em\" fill=\"currentColor\" x=\"1100\">NOUN</tspan>\n",
              "</text>\n",
              "\n",
              "<g class=\"displacy-arrow\">\n",
              "    <path class=\"displacy-arc\" id=\"arrow-6507fa2016ad474f823cc970c9bcfd5f-0-0\" stroke-width=\"2px\" d=\"M70,264.5 C70,89.5 395.0,89.5 395.0,264.5\" fill=\"none\" stroke=\"currentColor\"/>\n",
              "    <text dy=\"1.25em\" style=\"font-size: 0.8em; letter-spacing: 1px\">\n",
              "        <textPath xlink:href=\"#arrow-6507fa2016ad474f823cc970c9bcfd5f-0-0\" class=\"displacy-label\" startOffset=\"50%\" side=\"left\" fill=\"currentColor\" text-anchor=\"middle\">nsubj</textPath>\n",
              "    </text>\n",
              "    <path class=\"displacy-arrowhead\" d=\"M70,266.5 L62,254.5 78,254.5\" fill=\"currentColor\"/>\n",
              "</g>\n",
              "\n",
              "<g class=\"displacy-arrow\">\n",
              "    <path class=\"displacy-arc\" id=\"arrow-6507fa2016ad474f823cc970c9bcfd5f-0-1\" stroke-width=\"2px\" d=\"M245,264.5 C245,177.0 390.0,177.0 390.0,264.5\" fill=\"none\" stroke=\"currentColor\"/>\n",
              "    <text dy=\"1.25em\" style=\"font-size: 0.8em; letter-spacing: 1px\">\n",
              "        <textPath xlink:href=\"#arrow-6507fa2016ad474f823cc970c9bcfd5f-0-1\" class=\"displacy-label\" startOffset=\"50%\" side=\"left\" fill=\"currentColor\" text-anchor=\"middle\">advmod</textPath>\n",
              "    </text>\n",
              "    <path class=\"displacy-arrowhead\" d=\"M245,266.5 L237,254.5 253,254.5\" fill=\"currentColor\"/>\n",
              "</g>\n",
              "\n",
              "<g class=\"displacy-arrow\">\n",
              "    <path class=\"displacy-arc\" id=\"arrow-6507fa2016ad474f823cc970c9bcfd5f-0-2\" stroke-width=\"2px\" d=\"M420,264.5 C420,177.0 565.0,177.0 565.0,264.5\" fill=\"none\" stroke=\"currentColor\"/>\n",
              "    <text dy=\"1.25em\" style=\"font-size: 0.8em; letter-spacing: 1px\">\n",
              "        <textPath xlink:href=\"#arrow-6507fa2016ad474f823cc970c9bcfd5f-0-2\" class=\"displacy-label\" startOffset=\"50%\" side=\"left\" fill=\"currentColor\" text-anchor=\"middle\">ccomp</textPath>\n",
              "    </text>\n",
              "    <path class=\"displacy-arrowhead\" d=\"M565.0,266.5 L573.0,254.5 557.0,254.5\" fill=\"currentColor\"/>\n",
              "</g>\n",
              "\n",
              "<g class=\"displacy-arrow\">\n",
              "    <path class=\"displacy-arc\" id=\"arrow-6507fa2016ad474f823cc970c9bcfd5f-0-3\" stroke-width=\"2px\" d=\"M770,264.5 C770,89.5 1095.0,89.5 1095.0,264.5\" fill=\"none\" stroke=\"currentColor\"/>\n",
              "    <text dy=\"1.25em\" style=\"font-size: 0.8em; letter-spacing: 1px\">\n",
              "        <textPath xlink:href=\"#arrow-6507fa2016ad474f823cc970c9bcfd5f-0-3\" class=\"displacy-label\" startOffset=\"50%\" side=\"left\" fill=\"currentColor\" text-anchor=\"middle\">nummod</textPath>\n",
              "    </text>\n",
              "    <path class=\"displacy-arrowhead\" d=\"M770,266.5 L762,254.5 778,254.5\" fill=\"currentColor\"/>\n",
              "</g>\n",
              "\n",
              "<g class=\"displacy-arrow\">\n",
              "    <path class=\"displacy-arc\" id=\"arrow-6507fa2016ad474f823cc970c9bcfd5f-0-4\" stroke-width=\"2px\" d=\"M770,264.5 C770,177.0 915.0,177.0 915.0,264.5\" fill=\"none\" stroke=\"currentColor\"/>\n",
              "    <text dy=\"1.25em\" style=\"font-size: 0.8em; letter-spacing: 1px\">\n",
              "        <textPath xlink:href=\"#arrow-6507fa2016ad474f823cc970c9bcfd5f-0-4\" class=\"displacy-label\" startOffset=\"50%\" side=\"left\" fill=\"currentColor\" text-anchor=\"middle\">mark:clf</textPath>\n",
              "    </text>\n",
              "    <path class=\"displacy-arrowhead\" d=\"M915.0,266.5 L923.0,254.5 907.0,254.5\" fill=\"currentColor\"/>\n",
              "</g>\n",
              "\n",
              "<g class=\"displacy-arrow\">\n",
              "    <path class=\"displacy-arc\" id=\"arrow-6507fa2016ad474f823cc970c9bcfd5f-0-5\" stroke-width=\"2px\" d=\"M595,264.5 C595,2.0 1100.0,2.0 1100.0,264.5\" fill=\"none\" stroke=\"currentColor\"/>\n",
              "    <text dy=\"1.25em\" style=\"font-size: 0.8em; letter-spacing: 1px\">\n",
              "        <textPath xlink:href=\"#arrow-6507fa2016ad474f823cc970c9bcfd5f-0-5\" class=\"displacy-label\" startOffset=\"50%\" side=\"left\" fill=\"currentColor\" text-anchor=\"middle\">dobj</textPath>\n",
              "    </text>\n",
              "    <path class=\"displacy-arrowhead\" d=\"M1100.0,266.5 L1108.0,254.5 1092.0,254.5\" fill=\"currentColor\"/>\n",
              "</g>\n",
              "</svg></span>"
            ]
          },
          "metadata": {}
        }
      ]
    },
    {
      "cell_type": "markdown",
      "source": [
        "# Implementation"
      ],
      "metadata": {
        "id": "6Xwx_FPvkFDp"
      }
    },
    {
      "cell_type": "code",
      "source": [
        "def T3S(text, tone_list):\n",
        "    sent = nlp(text)\n",
        "\n",
        "    # Apply T3S within tokens\n",
        "    for token in sent:\n",
        "        for i in range(len(token) - 1):\n",
        "            if tone_list[token.idx + i] == tone_list[token.idx + i + 1] == '3': #idx: true index \n",
        "                tone_list[token.idx + i] = '2'\n",
        "\n",
        "    # Apply T3S to structurally adjacent T3s, with the possibility of acceptable over-application\n",
        "    for token in sent:   \n",
        "        for token_anc in token.ancestors:\n",
        "            # token_anc immediately follows token \n",
        "            if (token_anc.i == token.i + 1) and (tone_list[token_anc.idx] == tone_list[token_anc.idx - 1] == '3'):\n",
        "                tone_list[token_anc.idx - 1] = '2'         \n",
        "            # token immediately follows token_anc\n",
        "            elif (token.i == token_anc.i + 1) and (tone_list[token.idx] == tone_list[token.idx - 1] == '3'):\n",
        "                tone_list[token.idx - 1] = '2'\n",
        "        \n",
        "    # Apply T3S to remaining adjacent T3s, left-to-right\n",
        "    for i in range(len(tone_list) - 1):\n",
        "        if tone_list[i] == tone_list[i + 1] == '3':\n",
        "            tone_list[i] = '2'\n",
        "\n",
        "    print(tone_list)"
      ],
      "metadata": {
        "id": "Z5uYfFLH9VbP"
      },
      "execution_count": 91,
      "outputs": []
    },
    {
      "cell_type": "markdown",
      "source": [
        "# Results"
      ],
      "metadata": {
        "id": "BhucKHFlJi7P"
      }
    },
    {
      "cell_type": "code",
      "source": [
        "! pip install pinyin # https://pypi.org/project/pinyin/\n",
        "import pinyin"
      ],
      "metadata": {
        "id": "A0DBfEaXJ64f"
      },
      "execution_count": null,
      "outputs": []
    },
    {
      "cell_type": "code",
      "source": [
        "text = '五百碗酒' # 'five-hundred bowls of wine' \n",
        "                # Underlying tones: 3333; Expected surface tones: 2223 (other patterns unacceptable)\n",
        "py = pinyin.get(text, format = 'numerical')\n",
        "tone_list = [s for s in py if s.isnumeric()]\n",
        "T3S(text, tone_list)"
      ],
      "metadata": {
        "colab": {
          "base_uri": "https://localhost:8080/"
        },
        "id": "DgV9-5ikdOnF",
        "outputId": "2936ec3f-6d34-4bbf-bce5-b3b21de1576a"
      },
      "execution_count": 104,
      "outputs": [
        {
          "output_type": "stream",
          "name": "stdout",
          "text": [
            "['2', '2', '2', '3']\n"
          ]
        }
      ]
    },
    {
      "cell_type": "code",
      "source": [
        "text = '想买米酒' # 'want to buy rice wine'\n",
        "                # Underlying tones: 3333; Expected surface tones: 2323 (most natural) among other acceptable patterns\n",
        "py = pinyin.get(text, format = 'numerical')\n",
        "tone_list = [s for s in py if s.isnumeric()]\n",
        "T3S(text, tone_list)"
      ],
      "metadata": {
        "colab": {
          "base_uri": "https://localhost:8080/"
        },
        "id": "hBAyWGT_hvG3",
        "outputId": "66afab49-ae4a-4e3f-806d-a073b3b2d783"
      },
      "execution_count": 105,
      "outputs": [
        {
          "output_type": "stream",
          "name": "stdout",
          "text": [
            "['2', '3', '2', '3']\n"
          ]
        }
      ]
    },
    {
      "cell_type": "code",
      "source": [
        "text = '我很想买米酒' # 'I really want to buy rice wine'\n",
        "                  # Underlying tones: 333333; Expected surface tones: 322323 (most natural) among other acceptable patterns\n",
        "py = pinyin.get(text, format = 'numerical')\n",
        "tone_list = [s for s in py if s.isnumeric()]\n",
        "T3S(text, tone_list)"
      ],
      "metadata": {
        "colab": {
          "base_uri": "https://localhost:8080/"
        },
        "id": "TZUtw_EADhua",
        "outputId": "fcdfa700-c875-4420-bfb2-fe1f24eec4bd"
      },
      "execution_count": 106,
      "outputs": [
        {
          "output_type": "stream",
          "name": "stdout",
          "text": [
            "['3', '2', '2', '3', '2', '3']\n"
          ]
        }
      ]
    },
    {
      "cell_type": "code",
      "source": [
        "text = '我想买五百碗酒' # 'I want to buy five-hundred bowls of wine'\n",
        "                  # Underlying tones: 3333333; Expected surface tones: 3232223 (most natural) among other acceptable patterns\n",
        "py = pinyin.get(text, format = 'numerical')\n",
        "tone_list = [s for s in py if s.isnumeric()]\n",
        "T3S(text, tone_list)"
      ],
      "metadata": {
        "colab": {
          "base_uri": "https://localhost:8080/"
        },
        "id": "YL4qxfXFh2Oa",
        "outputId": "a4c2894a-78cd-42ee-c655-08077bbe5343"
      },
      "execution_count": 107,
      "outputs": [
        {
          "output_type": "stream",
          "name": "stdout",
          "text": [
            "['2', '2', '3', '2', '2', '2', '3']\n"
          ]
        }
      ]
    },
    {
      "cell_type": "code",
      "source": [
        "text = '老李很想买五百碗米酒' # 'Old Li really wants to buy five-hundred bowls of rice wine'\n",
        "                        # Underlying tones: 3333333333; Expected surface tones: 2322322323 (most natural) among other acceptable patterns\n",
        "py = pinyin.get(text, format = 'numerical')\n",
        "tone_list = [s for s in py if s.isnumeric()]\n",
        "T3S(text, tone_list)"
      ],
      "metadata": {
        "colab": {
          "base_uri": "https://localhost:8080/"
        },
        "id": "p90DUi0ZrnOq",
        "outputId": "40cea453-c557-4d35-b26a-a4120afbb704"
      },
      "execution_count": 108,
      "outputs": [
        {
          "output_type": "stream",
          "name": "stdout",
          "text": [
            "['2', '3', '2', '2', '3', '2', '2', '3', '2', '3']\n"
          ]
        }
      ]
    },
    {
      "cell_type": "markdown",
      "source": [
        "# gTTS\n",
        "\n",
        "* gTTs features more instances of acceptable over-application of T3S.\n",
        "* The current implementation of T3S can help make the output more natural. "
      ],
      "metadata": {
        "id": "XBT8oqKqrnnq"
      }
    },
    {
      "cell_type": "code",
      "source": [
        "!pip install gTTS \n",
        "import gtts\n",
        "import IPython"
      ],
      "metadata": {
        "id": "kbGeZLgxoicz"
      },
      "execution_count": null,
      "outputs": []
    },
    {
      "cell_type": "code",
      "source": [
        "tts = gtts.gTTS('五百碗酒', lang='zh') # 'five-hundred bowls of wine'\n",
        "tts.save('五百碗酒.mp3')\n",
        "IPython.display.Audio('五百碗酒.mp3') # Output: 2223 (acceptable)"
      ],
      "metadata": {
        "colab": {
          "base_uri": "https://localhost:8080/",
          "height": 52
        },
        "id": "lGSlUghpo4LM",
        "outputId": "b7f31a64-97f3-445c-b960-9419478a07f2"
      },
      "execution_count": 97,
      "outputs": [
        {
          "output_type": "execute_result",
          "data": {
            "text/plain": [
              "<IPython.lib.display.Audio object>"
            ],
            "text/html": [
              "\n",
              "                <audio  controls=\"controls\" >\n",
              "                    <source src=\"data:audio/mpeg;base64,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\" type=\"audio/mpeg\" />\n",
              "                    Your browser does not support the audio element.\n",
              "                </audio>\n",
              "              "
            ]
          },
          "metadata": {},
          "execution_count": 97
        }
      ]
    },
    {
      "cell_type": "code",
      "source": [
        "tts = gtts.gTTS('想买米酒', lang='zh') # 'want to buy rice wine'\n",
        "tts.save('想买米酒.mp3')\n",
        "IPython.display.Audio('想买米酒.mp3') # Output: 2323 (most natural)"
      ],
      "metadata": {
        "colab": {
          "base_uri": "https://localhost:8080/",
          "height": 52
        },
        "id": "378Tzr-pq15B",
        "outputId": "5b2170ab-c36c-4fb5-d511-5348343ab54c"
      },
      "execution_count": 109,
      "outputs": [
        {
          "output_type": "execute_result",
          "data": {
            "text/plain": [
              "<IPython.lib.display.Audio object>"
            ],
            "text/html": [
              "\n",
              "                <audio  controls=\"controls\" >\n",
              "                    <source src=\"data:audio/mpeg;base64,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\" type=\"audio/mpeg\" />\n",
              "                    Your browser does not support the audio element.\n",
              "                </audio>\n",
              "              "
            ]
          },
          "metadata": {},
          "execution_count": 109
        }
      ]
    },
    {
      "cell_type": "code",
      "source": [
        "tts = gtts.gTTS('我很想买米酒', lang='zh') # 'I really want to buy rice wine'\n",
        "tts.save('我很想买米酒.mp3')\n",
        "IPython.display.Audio('我很想买米酒.mp3') # Output: 222323 (acceptable); cf. 322323 (most natural)"
      ],
      "metadata": {
        "colab": {
          "base_uri": "https://localhost:8080/",
          "height": 52
        },
        "id": "t1WJqRzvrG-f",
        "outputId": "281a48c6-8c41-44cd-ebb7-dbff32210a13"
      },
      "execution_count": 111,
      "outputs": [
        {
          "output_type": "execute_result",
          "data": {
            "text/plain": [
              "<IPython.lib.display.Audio object>"
            ],
            "text/html": [
              "\n",
              "                <audio  controls=\"controls\" >\n",
              "                    <source src=\"data:audio/mpeg;base64,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\" type=\"audio/mpeg\" />\n",
              "                    Your browser does not support the audio element.\n",
              "                </audio>\n",
              "              "
            ]
          },
          "metadata": {},
          "execution_count": 111
        }
      ]
    },
    {
      "cell_type": "code",
      "source": [
        "tts = gtts.gTTS('我想买五百碗酒', lang='zh') # 'I want to buy five-hundred bowls of wine'\n",
        "tts.save('我想买五百碗酒.mp3')\n",
        "IPython.display.Audio('我想买五百碗酒.mp3') # Output: 2232223 (acceptable); cf. 3232223 (most natural)"
      ],
      "metadata": {
        "colab": {
          "base_uri": "https://localhost:8080/",
          "height": 52
        },
        "id": "_3z1cDi8q9my",
        "outputId": "ebc4067d-cf82-4bfc-8f72-a5359b5f1edd"
      },
      "execution_count": 113,
      "outputs": [
        {
          "output_type": "execute_result",
          "data": {
            "text/plain": [
              "<IPython.lib.display.Audio object>"
            ],
            "text/html": [
              "\n",
              "                <audio  controls=\"controls\" >\n",
              "                    <source src=\"data:audio/mpeg;base64,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\" type=\"audio/mpeg\" />\n",
              "                    Your browser does not support the audio element.\n",
              "                </audio>\n",
              "              "
            ]
          },
          "metadata": {},
          "execution_count": 113
        }
      ]
    },
    {
      "cell_type": "code",
      "source": [
        "tts = gtts.gTTS('老李很想买五百碗米酒', lang='zh') # 'Old Li really wants to buy five-hundred bowls of good wine'\n",
        "tts.save('老李很想买五百碗米酒.mp3')\n",
        "IPython.display.Audio('老李很想买五百碗米酒.mp3') # Output: 2222322323 (acceptable); cf. 2322322323 (most natural)"
      ],
      "metadata": {
        "colab": {
          "base_uri": "https://localhost:8080/",
          "height": 52
        },
        "id": "lnzrutp7s9kw",
        "outputId": "3ed8ac61-0bf1-4bb9-df6f-1614adacc792"
      },
      "execution_count": 115,
      "outputs": [
        {
          "output_type": "execute_result",
          "data": {
            "text/plain": [
              "<IPython.lib.display.Audio object>"
            ],
            "text/html": [
              "\n",
              "                <audio  controls=\"controls\" >\n",
              "                    <source src=\"data:audio/mpeg;base64,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\" type=\"audio/mpeg\" />\n",
              "                    Your browser does not support the audio element.\n",
              "                </audio>\n",
              "              "
            ]
          },
          "metadata": {},
          "execution_count": 115
        }
      ]
    }
  ]
}