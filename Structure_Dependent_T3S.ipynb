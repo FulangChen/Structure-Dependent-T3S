{
  "nbformat": 4,
  "nbformat_minor": 0,
  "metadata": {
    "colab": {
      "name": "Structure-Dependent-T3S.ipynb",
      "provenance": [],
      "collapsed_sections": [],
      "toc_visible": true
    },
    "kernelspec": {
      "name": "python3",
      "display_name": "Python 3"
    },
    "language_info": {
      "name": "python"
    }
  },
  "cells": [
    {
      "cell_type": "markdown",
      "source": [
        "# Summary\n",
        "\n",
        "* Implemented a dependency-parsing based algorithm to simulate the Tone 3 Sandhi (T3S) process in Mandarin Chinese, which yields different patterns of realization depending on the syntactic structure of the expression. \n",
        "\n",
        "* Produced more natural output than Google Text-to-Speech (gTTS)."
      ],
      "metadata": {
        "id": "4U47mTCpvfFK"
      }
    },
    {
      "cell_type": "markdown",
      "source": [
        "# Background\n",
        "\n",
        "* Mandarin is a tonal language with four distinctive tones: T1 (high), T2 (low-high), T3 (low), and T4 (high-low).\n",
        "\n",
        "* T3S is a phonological process by which a T3 is changed into a T2 when it is immediately followed by another T3.\n",
        "\n",
        "* The patterns of realization of T3S depend on the syntactic structure of the expression."
      ],
      "metadata": {
        "id": "zSVDquc_iNcr"
      }
    },
    {
      "cell_type": "code",
      "execution_count": null,
      "metadata": {
        "id": "2hTQNaUNk0ju"
      },
      "outputs": [],
      "source": [
        "!pip install -U spacy\n",
        "!python -m spacy download zh_core_web_lg # https://spacy.io/models/zh\n",
        "\n",
        "import zh_core_web_lg\n",
        "nlp = zh_core_web_lg.load()"
      ]
    },
    {
      "cell_type": "code",
      "source": [
        "from spacy import displacy"
      ],
      "metadata": {
        "id": "tHcEk0-Jlkuv"
      },
      "execution_count": null,
      "outputs": []
    },
    {
      "cell_type": "code",
      "source": [
        "sent = nlp('两百碗酒') # 'two-hundred bowls of wine' \n",
        "                    # Underlying tones: 3333; Expected surface tones: 2223 (other patterns are unacceptable)\n",
        "for token in sent:\n",
        "    print(token.text, token.pos_, token.dep_, list(token.ancestors))\n",
        "\n",
        "displacy.render(sent, style='dep', jupyter=True)"
      ],
      "metadata": {
        "colab": {
          "base_uri": "https://localhost:8080/",
          "height": 384
        },
        "id": "QX-jV3Qen7ZU",
        "outputId": "6ce0a063-fda5-45ae-ba41-78a63554cdec"
      },
      "execution_count": null,
      "outputs": [
        {
          "output_type": "stream",
          "name": "stdout",
          "text": [
            "两百 NUM nummod [酒]\n",
            "碗 NUM mark:clf [两百, 酒]\n",
            "酒 NOUN ROOT []\n"
          ]
        },
        {
          "output_type": "display_data",
          "data": {
            "text/plain": [
              "<IPython.core.display.HTML object>"
            ],
            "text/html": [
              "<span class=\"tex2jax_ignore\"><svg xmlns=\"http://www.w3.org/2000/svg\" xmlns:xlink=\"http://www.w3.org/1999/xlink\" xml:lang=\"zh\" id=\"f0c265b19bbe49fcaabdeea86c071d5e-0\" class=\"displacy\" width=\"575\" height=\"312.0\" direction=\"ltr\" style=\"max-width: none; height: 312.0px; color: #000000; background: #ffffff; font-family: Arial; direction: ltr\">\n",
              "<text class=\"displacy-token\" fill=\"currentColor\" text-anchor=\"middle\" y=\"222.0\">\n",
              "    <tspan class=\"displacy-word\" fill=\"currentColor\" x=\"50\">两百</tspan>\n",
              "    <tspan class=\"displacy-tag\" dy=\"2em\" fill=\"currentColor\" x=\"50\">NUM</tspan>\n",
              "</text>\n",
              "\n",
              "<text class=\"displacy-token\" fill=\"currentColor\" text-anchor=\"middle\" y=\"222.0\">\n",
              "    <tspan class=\"displacy-word\" fill=\"currentColor\" x=\"225\">碗</tspan>\n",
              "    <tspan class=\"displacy-tag\" dy=\"2em\" fill=\"currentColor\" x=\"225\">NUM</tspan>\n",
              "</text>\n",
              "\n",
              "<text class=\"displacy-token\" fill=\"currentColor\" text-anchor=\"middle\" y=\"222.0\">\n",
              "    <tspan class=\"displacy-word\" fill=\"currentColor\" x=\"400\">酒</tspan>\n",
              "    <tspan class=\"displacy-tag\" dy=\"2em\" fill=\"currentColor\" x=\"400\">NOUN</tspan>\n",
              "</text>\n",
              "\n",
              "<g class=\"displacy-arrow\">\n",
              "    <path class=\"displacy-arc\" id=\"arrow-f0c265b19bbe49fcaabdeea86c071d5e-0-0\" stroke-width=\"2px\" d=\"M70,177.0 C70,2.0 400.0,2.0 400.0,177.0\" fill=\"none\" stroke=\"currentColor\"/>\n",
              "    <text dy=\"1.25em\" style=\"font-size: 0.8em; letter-spacing: 1px\">\n",
              "        <textPath xlink:href=\"#arrow-f0c265b19bbe49fcaabdeea86c071d5e-0-0\" class=\"displacy-label\" startOffset=\"50%\" side=\"left\" fill=\"currentColor\" text-anchor=\"middle\">nummod</textPath>\n",
              "    </text>\n",
              "    <path class=\"displacy-arrowhead\" d=\"M70,179.0 L62,167.0 78,167.0\" fill=\"currentColor\"/>\n",
              "</g>\n",
              "\n",
              "<g class=\"displacy-arrow\">\n",
              "    <path class=\"displacy-arc\" id=\"arrow-f0c265b19bbe49fcaabdeea86c071d5e-0-1\" stroke-width=\"2px\" d=\"M70,177.0 C70,89.5 220.0,89.5 220.0,177.0\" fill=\"none\" stroke=\"currentColor\"/>\n",
              "    <text dy=\"1.25em\" style=\"font-size: 0.8em; letter-spacing: 1px\">\n",
              "        <textPath xlink:href=\"#arrow-f0c265b19bbe49fcaabdeea86c071d5e-0-1\" class=\"displacy-label\" startOffset=\"50%\" side=\"left\" fill=\"currentColor\" text-anchor=\"middle\">mark:clf</textPath>\n",
              "    </text>\n",
              "    <path class=\"displacy-arrowhead\" d=\"M220.0,179.0 L228.0,167.0 212.0,167.0\" fill=\"currentColor\"/>\n",
              "</g>\n",
              "</svg></span>"
            ]
          },
          "metadata": {}
        }
      ]
    },
    {
      "cell_type": "code",
      "source": [
        "sent = nlp('想买好酒') # 'want to buy good wine'\n",
        "                    # Underlying tones: 3333; Expected surface tones: 2323 or 2223 (among other acceptable patterns)\n",
        "for token in sent:\n",
        "    print(token.text, token.pos_, token.dep_, list(token.ancestors))\n",
        "\n",
        "displacy.render(sent, style='dep', jupyter=True)"
      ],
      "metadata": {
        "colab": {
          "base_uri": "https://localhost:8080/",
          "height": 401
        },
        "id": "hQIpE9oRxVSy",
        "outputId": "5492bb19-6254-4963-e454-9c6678e1a827"
      },
      "execution_count": null,
      "outputs": [
        {
          "output_type": "stream",
          "name": "stdout",
          "text": [
            "想 VERB ROOT []\n",
            "买 VERB ccomp [想]\n",
            "好 ADJ amod [酒, 买, 想]\n",
            "酒 NOUN dobj [买, 想]\n"
          ]
        },
        {
          "output_type": "display_data",
          "data": {
            "text/plain": [
              "<IPython.core.display.HTML object>"
            ],
            "text/html": [
              "<span class=\"tex2jax_ignore\"><svg xmlns=\"http://www.w3.org/2000/svg\" xmlns:xlink=\"http://www.w3.org/1999/xlink\" xml:lang=\"zh\" id=\"087857dce2b847a8b0cd0a32022c4526-0\" class=\"displacy\" width=\"750\" height=\"312.0\" direction=\"ltr\" style=\"max-width: none; height: 312.0px; color: #000000; background: #ffffff; font-family: Arial; direction: ltr\">\n",
              "<text class=\"displacy-token\" fill=\"currentColor\" text-anchor=\"middle\" y=\"222.0\">\n",
              "    <tspan class=\"displacy-word\" fill=\"currentColor\" x=\"50\">想</tspan>\n",
              "    <tspan class=\"displacy-tag\" dy=\"2em\" fill=\"currentColor\" x=\"50\">VERB</tspan>\n",
              "</text>\n",
              "\n",
              "<text class=\"displacy-token\" fill=\"currentColor\" text-anchor=\"middle\" y=\"222.0\">\n",
              "    <tspan class=\"displacy-word\" fill=\"currentColor\" x=\"225\">买</tspan>\n",
              "    <tspan class=\"displacy-tag\" dy=\"2em\" fill=\"currentColor\" x=\"225\">VERB</tspan>\n",
              "</text>\n",
              "\n",
              "<text class=\"displacy-token\" fill=\"currentColor\" text-anchor=\"middle\" y=\"222.0\">\n",
              "    <tspan class=\"displacy-word\" fill=\"currentColor\" x=\"400\">好</tspan>\n",
              "    <tspan class=\"displacy-tag\" dy=\"2em\" fill=\"currentColor\" x=\"400\">ADJ</tspan>\n",
              "</text>\n",
              "\n",
              "<text class=\"displacy-token\" fill=\"currentColor\" text-anchor=\"middle\" y=\"222.0\">\n",
              "    <tspan class=\"displacy-word\" fill=\"currentColor\" x=\"575\">酒</tspan>\n",
              "    <tspan class=\"displacy-tag\" dy=\"2em\" fill=\"currentColor\" x=\"575\">NOUN</tspan>\n",
              "</text>\n",
              "\n",
              "<g class=\"displacy-arrow\">\n",
              "    <path class=\"displacy-arc\" id=\"arrow-087857dce2b847a8b0cd0a32022c4526-0-0\" stroke-width=\"2px\" d=\"M70,177.0 C70,89.5 220.0,89.5 220.0,177.0\" fill=\"none\" stroke=\"currentColor\"/>\n",
              "    <text dy=\"1.25em\" style=\"font-size: 0.8em; letter-spacing: 1px\">\n",
              "        <textPath xlink:href=\"#arrow-087857dce2b847a8b0cd0a32022c4526-0-0\" class=\"displacy-label\" startOffset=\"50%\" side=\"left\" fill=\"currentColor\" text-anchor=\"middle\">ccomp</textPath>\n",
              "    </text>\n",
              "    <path class=\"displacy-arrowhead\" d=\"M220.0,179.0 L228.0,167.0 212.0,167.0\" fill=\"currentColor\"/>\n",
              "</g>\n",
              "\n",
              "<g class=\"displacy-arrow\">\n",
              "    <path class=\"displacy-arc\" id=\"arrow-087857dce2b847a8b0cd0a32022c4526-0-1\" stroke-width=\"2px\" d=\"M420,177.0 C420,89.5 570.0,89.5 570.0,177.0\" fill=\"none\" stroke=\"currentColor\"/>\n",
              "    <text dy=\"1.25em\" style=\"font-size: 0.8em; letter-spacing: 1px\">\n",
              "        <textPath xlink:href=\"#arrow-087857dce2b847a8b0cd0a32022c4526-0-1\" class=\"displacy-label\" startOffset=\"50%\" side=\"left\" fill=\"currentColor\" text-anchor=\"middle\">amod</textPath>\n",
              "    </text>\n",
              "    <path class=\"displacy-arrowhead\" d=\"M420,179.0 L412,167.0 428,167.0\" fill=\"currentColor\"/>\n",
              "</g>\n",
              "\n",
              "<g class=\"displacy-arrow\">\n",
              "    <path class=\"displacy-arc\" id=\"arrow-087857dce2b847a8b0cd0a32022c4526-0-2\" stroke-width=\"2px\" d=\"M245,177.0 C245,2.0 575.0,2.0 575.0,177.0\" fill=\"none\" stroke=\"currentColor\"/>\n",
              "    <text dy=\"1.25em\" style=\"font-size: 0.8em; letter-spacing: 1px\">\n",
              "        <textPath xlink:href=\"#arrow-087857dce2b847a8b0cd0a32022c4526-0-2\" class=\"displacy-label\" startOffset=\"50%\" side=\"left\" fill=\"currentColor\" text-anchor=\"middle\">dobj</textPath>\n",
              "    </text>\n",
              "    <path class=\"displacy-arrowhead\" d=\"M575.0,179.0 L583.0,167.0 567.0,167.0\" fill=\"currentColor\"/>\n",
              "</g>\n",
              "</svg></span>"
            ]
          },
          "metadata": {}
        }
      ]
    },
    {
      "cell_type": "code",
      "source": [
        "sent = nlp('我想买两碗酒') # 'I want to buy two bowls of wine'\n",
        "                        # Underlying tones: 333333; Expected surface tones: 223223 or 222223 (among other acceptable patterns)\n",
        "for token in sent:\n",
        "    print(token.text, token.pos_, token.dep_, list(token.ancestors))\n",
        "\n",
        "displacy.render(sent, style='dep', jupyter=True)"
      ],
      "metadata": {
        "colab": {
          "base_uri": "https://localhost:8080/",
          "height": 523
        },
        "id": "RPsBb2g5lSSk",
        "outputId": "8669b31e-4a43-44d4-872e-6706035d884a"
      },
      "execution_count": null,
      "outputs": [
        {
          "output_type": "stream",
          "name": "stdout",
          "text": [
            "我 PRON nsubj [想]\n",
            "想 VERB ROOT []\n",
            "买 VERB ccomp [想]\n",
            "两 NUM nummod [酒, 买, 想]\n",
            "碗 NUM mark:clf [两, 酒, 买, 想]\n",
            "酒 NOUN dobj [买, 想]\n"
          ]
        },
        {
          "output_type": "display_data",
          "data": {
            "text/plain": [
              "<IPython.core.display.HTML object>"
            ],
            "text/html": [
              "<span class=\"tex2jax_ignore\"><svg xmlns=\"http://www.w3.org/2000/svg\" xmlns:xlink=\"http://www.w3.org/1999/xlink\" xml:lang=\"zh\" id=\"eb22985a6fa94e30a8410c92b336ba55-0\" class=\"displacy\" width=\"1100\" height=\"399.5\" direction=\"ltr\" style=\"max-width: none; height: 399.5px; color: #000000; background: #ffffff; font-family: Arial; direction: ltr\">\n",
              "<text class=\"displacy-token\" fill=\"currentColor\" text-anchor=\"middle\" y=\"309.5\">\n",
              "    <tspan class=\"displacy-word\" fill=\"currentColor\" x=\"50\">我</tspan>\n",
              "    <tspan class=\"displacy-tag\" dy=\"2em\" fill=\"currentColor\" x=\"50\">PRON</tspan>\n",
              "</text>\n",
              "\n",
              "<text class=\"displacy-token\" fill=\"currentColor\" text-anchor=\"middle\" y=\"309.5\">\n",
              "    <tspan class=\"displacy-word\" fill=\"currentColor\" x=\"225\">想</tspan>\n",
              "    <tspan class=\"displacy-tag\" dy=\"2em\" fill=\"currentColor\" x=\"225\">VERB</tspan>\n",
              "</text>\n",
              "\n",
              "<text class=\"displacy-token\" fill=\"currentColor\" text-anchor=\"middle\" y=\"309.5\">\n",
              "    <tspan class=\"displacy-word\" fill=\"currentColor\" x=\"400\">买</tspan>\n",
              "    <tspan class=\"displacy-tag\" dy=\"2em\" fill=\"currentColor\" x=\"400\">VERB</tspan>\n",
              "</text>\n",
              "\n",
              "<text class=\"displacy-token\" fill=\"currentColor\" text-anchor=\"middle\" y=\"309.5\">\n",
              "    <tspan class=\"displacy-word\" fill=\"currentColor\" x=\"575\">两</tspan>\n",
              "    <tspan class=\"displacy-tag\" dy=\"2em\" fill=\"currentColor\" x=\"575\">NUM</tspan>\n",
              "</text>\n",
              "\n",
              "<text class=\"displacy-token\" fill=\"currentColor\" text-anchor=\"middle\" y=\"309.5\">\n",
              "    <tspan class=\"displacy-word\" fill=\"currentColor\" x=\"750\">碗</tspan>\n",
              "    <tspan class=\"displacy-tag\" dy=\"2em\" fill=\"currentColor\" x=\"750\">NUM</tspan>\n",
              "</text>\n",
              "\n",
              "<text class=\"displacy-token\" fill=\"currentColor\" text-anchor=\"middle\" y=\"309.5\">\n",
              "    <tspan class=\"displacy-word\" fill=\"currentColor\" x=\"925\">酒</tspan>\n",
              "    <tspan class=\"displacy-tag\" dy=\"2em\" fill=\"currentColor\" x=\"925\">NOUN</tspan>\n",
              "</text>\n",
              "\n",
              "<g class=\"displacy-arrow\">\n",
              "    <path class=\"displacy-arc\" id=\"arrow-eb22985a6fa94e30a8410c92b336ba55-0-0\" stroke-width=\"2px\" d=\"M70,264.5 C70,177.0 215.0,177.0 215.0,264.5\" fill=\"none\" stroke=\"currentColor\"/>\n",
              "    <text dy=\"1.25em\" style=\"font-size: 0.8em; letter-spacing: 1px\">\n",
              "        <textPath xlink:href=\"#arrow-eb22985a6fa94e30a8410c92b336ba55-0-0\" class=\"displacy-label\" startOffset=\"50%\" side=\"left\" fill=\"currentColor\" text-anchor=\"middle\">nsubj</textPath>\n",
              "    </text>\n",
              "    <path class=\"displacy-arrowhead\" d=\"M70,266.5 L62,254.5 78,254.5\" fill=\"currentColor\"/>\n",
              "</g>\n",
              "\n",
              "<g class=\"displacy-arrow\">\n",
              "    <path class=\"displacy-arc\" id=\"arrow-eb22985a6fa94e30a8410c92b336ba55-0-1\" stroke-width=\"2px\" d=\"M245,264.5 C245,177.0 390.0,177.0 390.0,264.5\" fill=\"none\" stroke=\"currentColor\"/>\n",
              "    <text dy=\"1.25em\" style=\"font-size: 0.8em; letter-spacing: 1px\">\n",
              "        <textPath xlink:href=\"#arrow-eb22985a6fa94e30a8410c92b336ba55-0-1\" class=\"displacy-label\" startOffset=\"50%\" side=\"left\" fill=\"currentColor\" text-anchor=\"middle\">ccomp</textPath>\n",
              "    </text>\n",
              "    <path class=\"displacy-arrowhead\" d=\"M390.0,266.5 L398.0,254.5 382.0,254.5\" fill=\"currentColor\"/>\n",
              "</g>\n",
              "\n",
              "<g class=\"displacy-arrow\">\n",
              "    <path class=\"displacy-arc\" id=\"arrow-eb22985a6fa94e30a8410c92b336ba55-0-2\" stroke-width=\"2px\" d=\"M595,264.5 C595,89.5 920.0,89.5 920.0,264.5\" fill=\"none\" stroke=\"currentColor\"/>\n",
              "    <text dy=\"1.25em\" style=\"font-size: 0.8em; letter-spacing: 1px\">\n",
              "        <textPath xlink:href=\"#arrow-eb22985a6fa94e30a8410c92b336ba55-0-2\" class=\"displacy-label\" startOffset=\"50%\" side=\"left\" fill=\"currentColor\" text-anchor=\"middle\">nummod</textPath>\n",
              "    </text>\n",
              "    <path class=\"displacy-arrowhead\" d=\"M595,266.5 L587,254.5 603,254.5\" fill=\"currentColor\"/>\n",
              "</g>\n",
              "\n",
              "<g class=\"displacy-arrow\">\n",
              "    <path class=\"displacy-arc\" id=\"arrow-eb22985a6fa94e30a8410c92b336ba55-0-3\" stroke-width=\"2px\" d=\"M595,264.5 C595,177.0 740.0,177.0 740.0,264.5\" fill=\"none\" stroke=\"currentColor\"/>\n",
              "    <text dy=\"1.25em\" style=\"font-size: 0.8em; letter-spacing: 1px\">\n",
              "        <textPath xlink:href=\"#arrow-eb22985a6fa94e30a8410c92b336ba55-0-3\" class=\"displacy-label\" startOffset=\"50%\" side=\"left\" fill=\"currentColor\" text-anchor=\"middle\">mark:clf</textPath>\n",
              "    </text>\n",
              "    <path class=\"displacy-arrowhead\" d=\"M740.0,266.5 L748.0,254.5 732.0,254.5\" fill=\"currentColor\"/>\n",
              "</g>\n",
              "\n",
              "<g class=\"displacy-arrow\">\n",
              "    <path class=\"displacy-arc\" id=\"arrow-eb22985a6fa94e30a8410c92b336ba55-0-4\" stroke-width=\"2px\" d=\"M420,264.5 C420,2.0 925.0,2.0 925.0,264.5\" fill=\"none\" stroke=\"currentColor\"/>\n",
              "    <text dy=\"1.25em\" style=\"font-size: 0.8em; letter-spacing: 1px\">\n",
              "        <textPath xlink:href=\"#arrow-eb22985a6fa94e30a8410c92b336ba55-0-4\" class=\"displacy-label\" startOffset=\"50%\" side=\"left\" fill=\"currentColor\" text-anchor=\"middle\">dobj</textPath>\n",
              "    </text>\n",
              "    <path class=\"displacy-arrowhead\" d=\"M925.0,266.5 L933.0,254.5 917.0,254.5\" fill=\"currentColor\"/>\n",
              "</g>\n",
              "</svg></span>"
            ]
          },
          "metadata": {}
        }
      ]
    },
    {
      "cell_type": "code",
      "source": [
        "sent = nlp('我很想买好酒') # 'I really want to buy good wine'\n",
        "                        # Underlying tones: 333333; Expected surface tones: 322323 or 222323 or 222223 (among other acceptable patterns)\n",
        "for token in sent:\n",
        "    print(token.text, token.pos_, token.dep_, list(token.ancestors))\n",
        "\n",
        "displacy.render(sent, style='dep', jupyter=True)"
      ],
      "metadata": {
        "colab": {
          "base_uri": "https://localhost:8080/",
          "height": 435
        },
        "id": "TyLimp2WDAoC",
        "outputId": "5fb9ad91-6ad1-4284-c4f7-c1d49aaccf54"
      },
      "execution_count": null,
      "outputs": [
        {
          "output_type": "stream",
          "name": "stdout",
          "text": [
            "我 PRON nsubj [想]\n",
            "很 ADV advmod [想]\n",
            "想 VERB ROOT []\n",
            "买 VERB ccomp [想]\n",
            "好 ADJ amod [酒, 买, 想]\n",
            "酒 NOUN dobj [买, 想]\n"
          ]
        },
        {
          "output_type": "display_data",
          "data": {
            "text/plain": [
              "<IPython.core.display.HTML object>"
            ],
            "text/html": [
              "<span class=\"tex2jax_ignore\"><svg xmlns=\"http://www.w3.org/2000/svg\" xmlns:xlink=\"http://www.w3.org/1999/xlink\" xml:lang=\"zh\" id=\"2aa5d3e7de21406eb91d4fa8c6d2940b-0\" class=\"displacy\" width=\"1100\" height=\"312.0\" direction=\"ltr\" style=\"max-width: none; height: 312.0px; color: #000000; background: #ffffff; font-family: Arial; direction: ltr\">\n",
              "<text class=\"displacy-token\" fill=\"currentColor\" text-anchor=\"middle\" y=\"222.0\">\n",
              "    <tspan class=\"displacy-word\" fill=\"currentColor\" x=\"50\">我</tspan>\n",
              "    <tspan class=\"displacy-tag\" dy=\"2em\" fill=\"currentColor\" x=\"50\">PRON</tspan>\n",
              "</text>\n",
              "\n",
              "<text class=\"displacy-token\" fill=\"currentColor\" text-anchor=\"middle\" y=\"222.0\">\n",
              "    <tspan class=\"displacy-word\" fill=\"currentColor\" x=\"225\">很</tspan>\n",
              "    <tspan class=\"displacy-tag\" dy=\"2em\" fill=\"currentColor\" x=\"225\">ADV</tspan>\n",
              "</text>\n",
              "\n",
              "<text class=\"displacy-token\" fill=\"currentColor\" text-anchor=\"middle\" y=\"222.0\">\n",
              "    <tspan class=\"displacy-word\" fill=\"currentColor\" x=\"400\">想</tspan>\n",
              "    <tspan class=\"displacy-tag\" dy=\"2em\" fill=\"currentColor\" x=\"400\">VERB</tspan>\n",
              "</text>\n",
              "\n",
              "<text class=\"displacy-token\" fill=\"currentColor\" text-anchor=\"middle\" y=\"222.0\">\n",
              "    <tspan class=\"displacy-word\" fill=\"currentColor\" x=\"575\">买</tspan>\n",
              "    <tspan class=\"displacy-tag\" dy=\"2em\" fill=\"currentColor\" x=\"575\">VERB</tspan>\n",
              "</text>\n",
              "\n",
              "<text class=\"displacy-token\" fill=\"currentColor\" text-anchor=\"middle\" y=\"222.0\">\n",
              "    <tspan class=\"displacy-word\" fill=\"currentColor\" x=\"750\">好</tspan>\n",
              "    <tspan class=\"displacy-tag\" dy=\"2em\" fill=\"currentColor\" x=\"750\">ADJ</tspan>\n",
              "</text>\n",
              "\n",
              "<text class=\"displacy-token\" fill=\"currentColor\" text-anchor=\"middle\" y=\"222.0\">\n",
              "    <tspan class=\"displacy-word\" fill=\"currentColor\" x=\"925\">酒</tspan>\n",
              "    <tspan class=\"displacy-tag\" dy=\"2em\" fill=\"currentColor\" x=\"925\">NOUN</tspan>\n",
              "</text>\n",
              "\n",
              "<g class=\"displacy-arrow\">\n",
              "    <path class=\"displacy-arc\" id=\"arrow-2aa5d3e7de21406eb91d4fa8c6d2940b-0-0\" stroke-width=\"2px\" d=\"M70,177.0 C70,2.0 400.0,2.0 400.0,177.0\" fill=\"none\" stroke=\"currentColor\"/>\n",
              "    <text dy=\"1.25em\" style=\"font-size: 0.8em; letter-spacing: 1px\">\n",
              "        <textPath xlink:href=\"#arrow-2aa5d3e7de21406eb91d4fa8c6d2940b-0-0\" class=\"displacy-label\" startOffset=\"50%\" side=\"left\" fill=\"currentColor\" text-anchor=\"middle\">nsubj</textPath>\n",
              "    </text>\n",
              "    <path class=\"displacy-arrowhead\" d=\"M70,179.0 L62,167.0 78,167.0\" fill=\"currentColor\"/>\n",
              "</g>\n",
              "\n",
              "<g class=\"displacy-arrow\">\n",
              "    <path class=\"displacy-arc\" id=\"arrow-2aa5d3e7de21406eb91d4fa8c6d2940b-0-1\" stroke-width=\"2px\" d=\"M245,177.0 C245,89.5 395.0,89.5 395.0,177.0\" fill=\"none\" stroke=\"currentColor\"/>\n",
              "    <text dy=\"1.25em\" style=\"font-size: 0.8em; letter-spacing: 1px\">\n",
              "        <textPath xlink:href=\"#arrow-2aa5d3e7de21406eb91d4fa8c6d2940b-0-1\" class=\"displacy-label\" startOffset=\"50%\" side=\"left\" fill=\"currentColor\" text-anchor=\"middle\">advmod</textPath>\n",
              "    </text>\n",
              "    <path class=\"displacy-arrowhead\" d=\"M245,179.0 L237,167.0 253,167.0\" fill=\"currentColor\"/>\n",
              "</g>\n",
              "\n",
              "<g class=\"displacy-arrow\">\n",
              "    <path class=\"displacy-arc\" id=\"arrow-2aa5d3e7de21406eb91d4fa8c6d2940b-0-2\" stroke-width=\"2px\" d=\"M420,177.0 C420,89.5 570.0,89.5 570.0,177.0\" fill=\"none\" stroke=\"currentColor\"/>\n",
              "    <text dy=\"1.25em\" style=\"font-size: 0.8em; letter-spacing: 1px\">\n",
              "        <textPath xlink:href=\"#arrow-2aa5d3e7de21406eb91d4fa8c6d2940b-0-2\" class=\"displacy-label\" startOffset=\"50%\" side=\"left\" fill=\"currentColor\" text-anchor=\"middle\">ccomp</textPath>\n",
              "    </text>\n",
              "    <path class=\"displacy-arrowhead\" d=\"M570.0,179.0 L578.0,167.0 562.0,167.0\" fill=\"currentColor\"/>\n",
              "</g>\n",
              "\n",
              "<g class=\"displacy-arrow\">\n",
              "    <path class=\"displacy-arc\" id=\"arrow-2aa5d3e7de21406eb91d4fa8c6d2940b-0-3\" stroke-width=\"2px\" d=\"M770,177.0 C770,89.5 920.0,89.5 920.0,177.0\" fill=\"none\" stroke=\"currentColor\"/>\n",
              "    <text dy=\"1.25em\" style=\"font-size: 0.8em; letter-spacing: 1px\">\n",
              "        <textPath xlink:href=\"#arrow-2aa5d3e7de21406eb91d4fa8c6d2940b-0-3\" class=\"displacy-label\" startOffset=\"50%\" side=\"left\" fill=\"currentColor\" text-anchor=\"middle\">amod</textPath>\n",
              "    </text>\n",
              "    <path class=\"displacy-arrowhead\" d=\"M770,179.0 L762,167.0 778,167.0\" fill=\"currentColor\"/>\n",
              "</g>\n",
              "\n",
              "<g class=\"displacy-arrow\">\n",
              "    <path class=\"displacy-arc\" id=\"arrow-2aa5d3e7de21406eb91d4fa8c6d2940b-0-4\" stroke-width=\"2px\" d=\"M595,177.0 C595,2.0 925.0,2.0 925.0,177.0\" fill=\"none\" stroke=\"currentColor\"/>\n",
              "    <text dy=\"1.25em\" style=\"font-size: 0.8em; letter-spacing: 1px\">\n",
              "        <textPath xlink:href=\"#arrow-2aa5d3e7de21406eb91d4fa8c6d2940b-0-4\" class=\"displacy-label\" startOffset=\"50%\" side=\"left\" fill=\"currentColor\" text-anchor=\"middle\">dobj</textPath>\n",
              "    </text>\n",
              "    <path class=\"displacy-arrowhead\" d=\"M925.0,179.0 L933.0,167.0 917.0,167.0\" fill=\"currentColor\"/>\n",
              "</g>\n",
              "</svg></span>"
            ]
          },
          "metadata": {}
        }
      ]
    },
    {
      "cell_type": "code",
      "source": [
        "sent = nlp('老李很想买两百碗好酒') # 'Old Li really wants to buy two-hundred bowls of good wine'\n",
        "                              # Underlying tones: 3333333333; Expected surface tones: 2322322323 (among other acceptable patterns)\n",
        "for token in sent:\n",
        "    print(token.text, token.pos_, token.dep_, list(token.ancestors))\n",
        "\n",
        "displacy.render(sent, style='dep', jupyter=True)"
      ],
      "metadata": {
        "colab": {
          "base_uri": "https://localhost:8080/",
          "height": 577
        },
        "id": "SPPP2mDjrTzW",
        "outputId": "d249b4c2-cadc-401f-abe8-e2ba6da7861d"
      },
      "execution_count": null,
      "outputs": [
        {
          "output_type": "stream",
          "name": "stdout",
          "text": [
            "老李 PROPN nsubj [想]\n",
            "很 ADV advmod [想]\n",
            "想 VERB ROOT []\n",
            "买 VERB ccomp [想]\n",
            "两百 NUM nummod [酒, 买, 想]\n",
            "碗 NUM mark:clf [两百, 酒, 买, 想]\n",
            "好 ADJ amod [酒, 买, 想]\n",
            "酒 NOUN dobj [买, 想]\n"
          ]
        },
        {
          "output_type": "display_data",
          "data": {
            "text/plain": [
              "<IPython.core.display.HTML object>"
            ],
            "text/html": [
              "<span class=\"tex2jax_ignore\"><svg xmlns=\"http://www.w3.org/2000/svg\" xmlns:xlink=\"http://www.w3.org/1999/xlink\" xml:lang=\"zh\" id=\"236c287ad1694d7089ccfb998cc3f7e5-0\" class=\"displacy\" width=\"1450\" height=\"399.5\" direction=\"ltr\" style=\"max-width: none; height: 399.5px; color: #000000; background: #ffffff; font-family: Arial; direction: ltr\">\n",
              "<text class=\"displacy-token\" fill=\"currentColor\" text-anchor=\"middle\" y=\"309.5\">\n",
              "    <tspan class=\"displacy-word\" fill=\"currentColor\" x=\"50\">老李</tspan>\n",
              "    <tspan class=\"displacy-tag\" dy=\"2em\" fill=\"currentColor\" x=\"50\">PROPN</tspan>\n",
              "</text>\n",
              "\n",
              "<text class=\"displacy-token\" fill=\"currentColor\" text-anchor=\"middle\" y=\"309.5\">\n",
              "    <tspan class=\"displacy-word\" fill=\"currentColor\" x=\"225\">很</tspan>\n",
              "    <tspan class=\"displacy-tag\" dy=\"2em\" fill=\"currentColor\" x=\"225\">ADV</tspan>\n",
              "</text>\n",
              "\n",
              "<text class=\"displacy-token\" fill=\"currentColor\" text-anchor=\"middle\" y=\"309.5\">\n",
              "    <tspan class=\"displacy-word\" fill=\"currentColor\" x=\"400\">想</tspan>\n",
              "    <tspan class=\"displacy-tag\" dy=\"2em\" fill=\"currentColor\" x=\"400\">VERB</tspan>\n",
              "</text>\n",
              "\n",
              "<text class=\"displacy-token\" fill=\"currentColor\" text-anchor=\"middle\" y=\"309.5\">\n",
              "    <tspan class=\"displacy-word\" fill=\"currentColor\" x=\"575\">买</tspan>\n",
              "    <tspan class=\"displacy-tag\" dy=\"2em\" fill=\"currentColor\" x=\"575\">VERB</tspan>\n",
              "</text>\n",
              "\n",
              "<text class=\"displacy-token\" fill=\"currentColor\" text-anchor=\"middle\" y=\"309.5\">\n",
              "    <tspan class=\"displacy-word\" fill=\"currentColor\" x=\"750\">两百</tspan>\n",
              "    <tspan class=\"displacy-tag\" dy=\"2em\" fill=\"currentColor\" x=\"750\">NUM</tspan>\n",
              "</text>\n",
              "\n",
              "<text class=\"displacy-token\" fill=\"currentColor\" text-anchor=\"middle\" y=\"309.5\">\n",
              "    <tspan class=\"displacy-word\" fill=\"currentColor\" x=\"925\">碗</tspan>\n",
              "    <tspan class=\"displacy-tag\" dy=\"2em\" fill=\"currentColor\" x=\"925\">NUM</tspan>\n",
              "</text>\n",
              "\n",
              "<text class=\"displacy-token\" fill=\"currentColor\" text-anchor=\"middle\" y=\"309.5\">\n",
              "    <tspan class=\"displacy-word\" fill=\"currentColor\" x=\"1100\">好</tspan>\n",
              "    <tspan class=\"displacy-tag\" dy=\"2em\" fill=\"currentColor\" x=\"1100\">ADJ</tspan>\n",
              "</text>\n",
              "\n",
              "<text class=\"displacy-token\" fill=\"currentColor\" text-anchor=\"middle\" y=\"309.5\">\n",
              "    <tspan class=\"displacy-word\" fill=\"currentColor\" x=\"1275\">酒</tspan>\n",
              "    <tspan class=\"displacy-tag\" dy=\"2em\" fill=\"currentColor\" x=\"1275\">NOUN</tspan>\n",
              "</text>\n",
              "\n",
              "<g class=\"displacy-arrow\">\n",
              "    <path class=\"displacy-arc\" id=\"arrow-236c287ad1694d7089ccfb998cc3f7e5-0-0\" stroke-width=\"2px\" d=\"M70,264.5 C70,89.5 395.0,89.5 395.0,264.5\" fill=\"none\" stroke=\"currentColor\"/>\n",
              "    <text dy=\"1.25em\" style=\"font-size: 0.8em; letter-spacing: 1px\">\n",
              "        <textPath xlink:href=\"#arrow-236c287ad1694d7089ccfb998cc3f7e5-0-0\" class=\"displacy-label\" startOffset=\"50%\" side=\"left\" fill=\"currentColor\" text-anchor=\"middle\">nsubj</textPath>\n",
              "    </text>\n",
              "    <path class=\"displacy-arrowhead\" d=\"M70,266.5 L62,254.5 78,254.5\" fill=\"currentColor\"/>\n",
              "</g>\n",
              "\n",
              "<g class=\"displacy-arrow\">\n",
              "    <path class=\"displacy-arc\" id=\"arrow-236c287ad1694d7089ccfb998cc3f7e5-0-1\" stroke-width=\"2px\" d=\"M245,264.5 C245,177.0 390.0,177.0 390.0,264.5\" fill=\"none\" stroke=\"currentColor\"/>\n",
              "    <text dy=\"1.25em\" style=\"font-size: 0.8em; letter-spacing: 1px\">\n",
              "        <textPath xlink:href=\"#arrow-236c287ad1694d7089ccfb998cc3f7e5-0-1\" class=\"displacy-label\" startOffset=\"50%\" side=\"left\" fill=\"currentColor\" text-anchor=\"middle\">advmod</textPath>\n",
              "    </text>\n",
              "    <path class=\"displacy-arrowhead\" d=\"M245,266.5 L237,254.5 253,254.5\" fill=\"currentColor\"/>\n",
              "</g>\n",
              "\n",
              "<g class=\"displacy-arrow\">\n",
              "    <path class=\"displacy-arc\" id=\"arrow-236c287ad1694d7089ccfb998cc3f7e5-0-2\" stroke-width=\"2px\" d=\"M420,264.5 C420,177.0 565.0,177.0 565.0,264.5\" fill=\"none\" stroke=\"currentColor\"/>\n",
              "    <text dy=\"1.25em\" style=\"font-size: 0.8em; letter-spacing: 1px\">\n",
              "        <textPath xlink:href=\"#arrow-236c287ad1694d7089ccfb998cc3f7e5-0-2\" class=\"displacy-label\" startOffset=\"50%\" side=\"left\" fill=\"currentColor\" text-anchor=\"middle\">ccomp</textPath>\n",
              "    </text>\n",
              "    <path class=\"displacy-arrowhead\" d=\"M565.0,266.5 L573.0,254.5 557.0,254.5\" fill=\"currentColor\"/>\n",
              "</g>\n",
              "\n",
              "<g class=\"displacy-arrow\">\n",
              "    <path class=\"displacy-arc\" id=\"arrow-236c287ad1694d7089ccfb998cc3f7e5-0-3\" stroke-width=\"2px\" d=\"M770,264.5 C770,89.5 1270.0,89.5 1270.0,264.5\" fill=\"none\" stroke=\"currentColor\"/>\n",
              "    <text dy=\"1.25em\" style=\"font-size: 0.8em; letter-spacing: 1px\">\n",
              "        <textPath xlink:href=\"#arrow-236c287ad1694d7089ccfb998cc3f7e5-0-3\" class=\"displacy-label\" startOffset=\"50%\" side=\"left\" fill=\"currentColor\" text-anchor=\"middle\">nummod</textPath>\n",
              "    </text>\n",
              "    <path class=\"displacy-arrowhead\" d=\"M770,266.5 L762,254.5 778,254.5\" fill=\"currentColor\"/>\n",
              "</g>\n",
              "\n",
              "<g class=\"displacy-arrow\">\n",
              "    <path class=\"displacy-arc\" id=\"arrow-236c287ad1694d7089ccfb998cc3f7e5-0-4\" stroke-width=\"2px\" d=\"M770,264.5 C770,177.0 915.0,177.0 915.0,264.5\" fill=\"none\" stroke=\"currentColor\"/>\n",
              "    <text dy=\"1.25em\" style=\"font-size: 0.8em; letter-spacing: 1px\">\n",
              "        <textPath xlink:href=\"#arrow-236c287ad1694d7089ccfb998cc3f7e5-0-4\" class=\"displacy-label\" startOffset=\"50%\" side=\"left\" fill=\"currentColor\" text-anchor=\"middle\">mark:clf</textPath>\n",
              "    </text>\n",
              "    <path class=\"displacy-arrowhead\" d=\"M915.0,266.5 L923.0,254.5 907.0,254.5\" fill=\"currentColor\"/>\n",
              "</g>\n",
              "\n",
              "<g class=\"displacy-arrow\">\n",
              "    <path class=\"displacy-arc\" id=\"arrow-236c287ad1694d7089ccfb998cc3f7e5-0-5\" stroke-width=\"2px\" d=\"M1120,264.5 C1120,177.0 1265.0,177.0 1265.0,264.5\" fill=\"none\" stroke=\"currentColor\"/>\n",
              "    <text dy=\"1.25em\" style=\"font-size: 0.8em; letter-spacing: 1px\">\n",
              "        <textPath xlink:href=\"#arrow-236c287ad1694d7089ccfb998cc3f7e5-0-5\" class=\"displacy-label\" startOffset=\"50%\" side=\"left\" fill=\"currentColor\" text-anchor=\"middle\">amod</textPath>\n",
              "    </text>\n",
              "    <path class=\"displacy-arrowhead\" d=\"M1120,266.5 L1112,254.5 1128,254.5\" fill=\"currentColor\"/>\n",
              "</g>\n",
              "\n",
              "<g class=\"displacy-arrow\">\n",
              "    <path class=\"displacy-arc\" id=\"arrow-236c287ad1694d7089ccfb998cc3f7e5-0-6\" stroke-width=\"2px\" d=\"M595,264.5 C595,2.0 1275.0,2.0 1275.0,264.5\" fill=\"none\" stroke=\"currentColor\"/>\n",
              "    <text dy=\"1.25em\" style=\"font-size: 0.8em; letter-spacing: 1px\">\n",
              "        <textPath xlink:href=\"#arrow-236c287ad1694d7089ccfb998cc3f7e5-0-6\" class=\"displacy-label\" startOffset=\"50%\" side=\"left\" fill=\"currentColor\" text-anchor=\"middle\">dobj</textPath>\n",
              "    </text>\n",
              "    <path class=\"displacy-arrowhead\" d=\"M1275.0,266.5 L1283.0,254.5 1267.0,254.5\" fill=\"currentColor\"/>\n",
              "</g>\n",
              "</svg></span>"
            ]
          },
          "metadata": {}
        }
      ]
    },
    {
      "cell_type": "markdown",
      "source": [
        "# Implementation"
      ],
      "metadata": {
        "id": "6Xwx_FPvkFDp"
      }
    },
    {
      "cell_type": "code",
      "source": [
        "def T3S(text, tone_list):\n",
        "    sent = nlp(text)\n",
        "\n",
        "    # Apply T3S within tokens\n",
        "    for token in sent:\n",
        "        for i in range(len(token) - 1):\n",
        "            if tone_list[token.idx + i] == tone_list[token.idx + i + 1] == '3': #idx: true index \n",
        "                tone_list[token.idx + i] = '2'\n",
        "\n",
        "    # Apply T3S to structurally adjacent T3s, with the possibility of acceptable over-application\n",
        "    for token in sent:   \n",
        "        for token_anc in token.ancestors:\n",
        "            # token_anc immediately follows token \n",
        "            if (token_anc.i == token.i + 1) and (tone_list[token_anc.idx] == tone_list[token_anc.idx - 1] == '3'):\n",
        "                tone_list[token_anc.idx - 1] = '2'         \n",
        "            # token immediately follows token_anc\n",
        "            elif (token.i == token_anc.i + 1) and (tone_list[token.idx] == tone_list[token.idx - 1] == '3'):\n",
        "                tone_list[token.idx - 1] = '2'\n",
        "        \n",
        "    # Apply T3S to remaining adjacent T3s, left-to-right\n",
        "    for i in range(len(tone_list) - 1):\n",
        "        if tone_list[i] == tone_list[i + 1] == '3':\n",
        "            tone_list[i] = '2'\n",
        "\n",
        "    print(tone_list)"
      ],
      "metadata": {
        "id": "Z5uYfFLH9VbP"
      },
      "execution_count": null,
      "outputs": []
    },
    {
      "cell_type": "markdown",
      "source": [
        "# Results"
      ],
      "metadata": {
        "id": "BhucKHFlJi7P"
      }
    },
    {
      "cell_type": "code",
      "source": [
        "! pip install pinyin # https://pypi.org/project/pinyin/\n",
        "import pinyin"
      ],
      "metadata": {
        "id": "A0DBfEaXJ64f"
      },
      "execution_count": null,
      "outputs": []
    },
    {
      "cell_type": "code",
      "source": [
        "text = '两百碗酒' # 'two-hundred bowls of wine' \n",
        "                # Underlying tones: 3333; Expected surface tones: 2223 (other patterns unacceptable)\n",
        "py = pinyin.get(text, format = 'numerical')\n",
        "tone_list = [s for s in py if s.isnumeric()]\n",
        "T3S(text, tone_list)"
      ],
      "metadata": {
        "colab": {
          "base_uri": "https://localhost:8080/"
        },
        "id": "DgV9-5ikdOnF",
        "outputId": "1f84b321-cd85-4dae-d7ef-dd415b3de505"
      },
      "execution_count": null,
      "outputs": [
        {
          "output_type": "stream",
          "name": "stdout",
          "text": [
            "['2', '2', '2', '3']\n"
          ]
        }
      ]
    },
    {
      "cell_type": "code",
      "source": [
        "text = '想买好酒' # 'want to buy good wine'\n",
        "                # Underlying tones: 3333; Expected surface tones: 2323 or 2223 (among other acceptable patterns)\n",
        "py = pinyin.get(text, format = 'numerical')\n",
        "tone_list = [s for s in py if s.isnumeric()]\n",
        "T3S(text, tone_list)"
      ],
      "metadata": {
        "colab": {
          "base_uri": "https://localhost:8080/"
        },
        "id": "hBAyWGT_hvG3",
        "outputId": "d58a0e30-55ec-4039-97b3-74d3ed7e0fec"
      },
      "execution_count": null,
      "outputs": [
        {
          "output_type": "stream",
          "name": "stdout",
          "text": [
            "['2', '3', '2', '3']\n"
          ]
        }
      ]
    },
    {
      "cell_type": "code",
      "source": [
        "text = '我想买两碗酒' # 'I want to buy two bowls of wine'\n",
        "                  # Underlying tones: 333333; Expected surface tones: 223223 or 222223 (among other acceptable patterns)\n",
        "py = pinyin.get(text, format = 'numerical')\n",
        "tone_list = [s for s in py if s.isnumeric()]\n",
        "T3S(text, tone_list)"
      ],
      "metadata": {
        "colab": {
          "base_uri": "https://localhost:8080/"
        },
        "id": "YL4qxfXFh2Oa",
        "outputId": "4dbd62e2-78ab-4b76-ff6c-481edb9c8cbb"
      },
      "execution_count": null,
      "outputs": [
        {
          "output_type": "stream",
          "name": "stdout",
          "text": [
            "['2', '2', '2', '2', '2', '3']\n"
          ]
        }
      ]
    },
    {
      "cell_type": "code",
      "source": [
        "text = '我很想买好酒' # 'I really want to buy good wine'\n",
        "                  # Underlying tones: 333333; Expected surface tones: 322323 or 222323 or 222223 (among other acceptable patterns)\n",
        "py = pinyin.get(text, format = 'numerical')\n",
        "tone_list = [s for s in py if s.isnumeric()]\n",
        "T3S(text, tone_list)"
      ],
      "metadata": {
        "colab": {
          "base_uri": "https://localhost:8080/"
        },
        "id": "TZUtw_EADhua",
        "outputId": "b5ef5e2b-df0a-4da0-878d-749eca3da6ca"
      },
      "execution_count": null,
      "outputs": [
        {
          "output_type": "stream",
          "name": "stdout",
          "text": [
            "['3', '2', '2', '3', '2', '3']\n"
          ]
        }
      ]
    },
    {
      "cell_type": "code",
      "source": [
        "text = '老李很想买两百碗好酒' # 'Old Li really wants to buy two-hundred bowls of good wine'\n",
        "                        # Underlying tones: 3333333333; Expected surface tones: 2322322323 (among other acceptable patterns)\n",
        "py = pinyin.get(text, format = 'numerical')\n",
        "tone_list = [s for s in py if s.isnumeric()]\n",
        "T3S(text, tone_list)"
      ],
      "metadata": {
        "colab": {
          "base_uri": "https://localhost:8080/"
        },
        "id": "p90DUi0ZrnOq",
        "outputId": "28372177-f41c-4027-8757-2c6f9187a673"
      },
      "execution_count": null,
      "outputs": [
        {
          "output_type": "stream",
          "name": "stdout",
          "text": [
            "['2', '3', '2', '2', '3', '2', '2', '3', '2', '3']\n"
          ]
        }
      ]
    },
    {
      "cell_type": "markdown",
      "source": [
        "# gTTS\n",
        "\n",
        "* gTTs features more instances of acceptable over-application of T3S.\n",
        "* The current implementation of T3S can help make the output more natural. "
      ],
      "metadata": {
        "id": "XBT8oqKqrnnq"
      }
    },
    {
      "cell_type": "code",
      "source": [
        "!pip install gTTS \n",
        "import gtts\n",
        "import IPython"
      ],
      "metadata": {
        "id": "kbGeZLgxoicz"
      },
      "execution_count": null,
      "outputs": []
    },
    {
      "cell_type": "code",
      "source": [
        "tts = gtts.gTTS('两百碗酒', lang='zh-cn') # 'two-hundred bowls of wine'\n",
        "tts.save('两百碗酒.mp3')\n",
        "IPython.display.Audio('两百碗酒.mp3') # Output: 2223 (acceptable)"
      ],
      "metadata": {
        "colab": {
          "base_uri": "https://localhost:8080/",
          "height": 52
        },
        "id": "lGSlUghpo4LM",
        "outputId": "6b4c187f-1d41-433c-c4e8-e59e6f746be2"
      },
      "execution_count": null,
      "outputs": [
        {
          "output_type": "execute_result",
          "data": {
            "text/plain": [
              "<IPython.lib.display.Audio object>"
            ],
            "text/html": [
              "\n",
              "                <audio controls=\"controls\" >\n",
              "                    <source src=\"data:audio/mpeg;base64,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\" type=\"audio/mpeg\" />\n",
              "                    Your browser does not support the audio element.\n",
              "                </audio>\n",
              "              "
            ]
          },
          "metadata": {},
          "execution_count": 6
        }
      ]
    },
    {
      "cell_type": "code",
      "source": [
        "tts = gtts.gTTS('想买好酒', lang='zh-cn') # 'want to buy good wine'\n",
        "tts.save('想买好酒.mp3')\n",
        "IPython.display.Audio('想买好酒.mp3') # Output: 2223 (acceptable); cf. 2323 (more natural)"
      ],
      "metadata": {
        "colab": {
          "base_uri": "https://localhost:8080/",
          "height": 52
        },
        "id": "378Tzr-pq15B",
        "outputId": "4820e5c3-79e7-45a3-ae71-605c2cebb01a"
      },
      "execution_count": null,
      "outputs": [
        {
          "output_type": "execute_result",
          "data": {
            "text/plain": [
              "<IPython.lib.display.Audio object>"
            ],
            "text/html": [
              "\n",
              "                <audio controls=\"controls\" >\n",
              "                    <source src=\"data:audio/mpeg;base64,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\" type=\"audio/mpeg\" />\n",
              "                    Your browser does not support the audio element.\n",
              "                </audio>\n",
              "              "
            ]
          },
          "metadata": {},
          "execution_count": 2
        }
      ]
    },
    {
      "cell_type": "code",
      "source": [
        "tts = gtts.gTTS('我想买两碗酒', lang='zh-cn') # 'I want to buy two bowls of wine'\n",
        "tts.save('我想买两碗酒.mp3')\n",
        "IPython.display.Audio('我想买两碗酒.mp3') # Output: 222223 (acceptable) "
      ],
      "metadata": {
        "colab": {
          "base_uri": "https://localhost:8080/",
          "height": 52
        },
        "id": "_3z1cDi8q9my",
        "outputId": "f5817125-3740-4102-c096-e2301252827e"
      },
      "execution_count": null,
      "outputs": [
        {
          "output_type": "execute_result",
          "data": {
            "text/plain": [
              "<IPython.lib.display.Audio object>"
            ],
            "text/html": [
              "\n",
              "                <audio controls=\"controls\" >\n",
              "                    <source src=\"data:audio/mpeg;base64,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\" type=\"audio/mpeg\" />\n",
              "                    Your browser does not support the audio element.\n",
              "                </audio>\n",
              "              "
            ]
          },
          "metadata": {},
          "execution_count": 3
        }
      ]
    },
    {
      "cell_type": "code",
      "source": [
        "tts = gtts.gTTS('我很想买好酒', lang='zh-cn') # 'I really want to buy good wine'\n",
        "tts.save('我很想买好酒.mp3')\n",
        "IPython.display.Audio('我很想买好酒.mp3') # Output: 222223 (acceptable); cf. 322323 (more natural)"
      ],
      "metadata": {
        "colab": {
          "base_uri": "https://localhost:8080/",
          "height": 52
        },
        "id": "t1WJqRzvrG-f",
        "outputId": "5466fe16-25e2-4e25-963d-d0fd0fad848b"
      },
      "execution_count": null,
      "outputs": [
        {
          "output_type": "execute_result",
          "data": {
            "text/plain": [
              "<IPython.lib.display.Audio object>"
            ],
            "text/html": [
              "\n",
              "                <audio controls=\"controls\" >\n",
              "                    <source src=\"data:audio/mpeg;base64,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\" type=\"audio/mpeg\" />\n",
              "                    Your browser does not support the audio element.\n",
              "                </audio>\n",
              "              "
            ]
          },
          "metadata": {},
          "execution_count": 4
        }
      ]
    },
    {
      "cell_type": "code",
      "source": [
        "tts = gtts.gTTS('老李很想买两百碗好酒', lang='zh-cn') # 'Old Li really wants to buy two-hundred bowls of good wine'\n",
        "tts.save('老李很想买两百碗好酒.mp3')\n",
        "IPython.display.Audio('老李很想买两百碗好酒.mp3') # Output: 2222322223 (acceptable); cf. 2322322323 (more natural)"
      ],
      "metadata": {
        "colab": {
          "base_uri": "https://localhost:8080/",
          "height": 52
        },
        "id": "lnzrutp7s9kw",
        "outputId": "b509d533-7096-4e3d-c899-bc6e470d9dac"
      },
      "execution_count": null,
      "outputs": [
        {
          "output_type": "execute_result",
          "data": {
            "text/plain": [
              "<IPython.lib.display.Audio object>"
            ],
            "text/html": [
              "\n",
              "                <audio controls=\"controls\" >\n",
              "                    <source src=\"data:audio/mpeg;base64,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\" type=\"audio/mpeg\" />\n",
              "                    Your browser does not support the audio element.\n",
              "                </audio>\n",
              "              "
            ]
          },
          "metadata": {},
          "execution_count": 7
        }
      ]
    }
  ]
}